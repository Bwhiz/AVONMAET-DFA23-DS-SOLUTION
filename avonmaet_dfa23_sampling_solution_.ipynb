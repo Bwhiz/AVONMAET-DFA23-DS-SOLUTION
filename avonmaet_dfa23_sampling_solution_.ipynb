{
  "nbformat": 4,
  "nbformat_minor": 0,
  "metadata": {
    "colab": {
      "provenance": []
    },
    "kernelspec": {
      "name": "python3",
      "display_name": "Python 3"
    },
    "language_info": {
      "name": "python"
    },
    "widgets": {
      "application/vnd.jupyter.widget-state+json": {
        "d9eb9a563236467d8b1ddc46c4f0460c": {
          "model_module": "@jupyter-widgets/controls",
          "model_name": "HBoxModel",
          "model_module_version": "1.5.0",
          "state": {
            "_dom_classes": [],
            "_model_module": "@jupyter-widgets/controls",
            "_model_module_version": "1.5.0",
            "_model_name": "HBoxModel",
            "_view_count": null,
            "_view_module": "@jupyter-widgets/controls",
            "_view_module_version": "1.5.0",
            "_view_name": "HBoxView",
            "box_style": "",
            "children": [
              "IPY_MODEL_47fc14ad73a345dbbb56a518439d01e6",
              "IPY_MODEL_1d9227c3c17a480786d114755f31348e",
              "IPY_MODEL_ab4c76ac67c54582996a74248ce74e13"
            ],
            "layout": "IPY_MODEL_e0b9e9e01b864210a8ac8b798fdca600"
          }
        },
        "47fc14ad73a345dbbb56a518439d01e6": {
          "model_module": "@jupyter-widgets/controls",
          "model_name": "HTMLModel",
          "model_module_version": "1.5.0",
          "state": {
            "_dom_classes": [],
            "_model_module": "@jupyter-widgets/controls",
            "_model_module_version": "1.5.0",
            "_model_name": "HTMLModel",
            "_view_count": null,
            "_view_module": "@jupyter-widgets/controls",
            "_view_module_version": "1.5.0",
            "_view_name": "HTMLView",
            "description": "",
            "description_tooltip": null,
            "layout": "IPY_MODEL_94bd0a9bb4824ad6aac349759da6fca8",
            "placeholder": "​",
            "style": "IPY_MODEL_a6e9efd5c8ee4a1b82e311142dbfb222",
            "value": "Best trial: 6. Best value: 0.500186:  70%"
          }
        },
        "1d9227c3c17a480786d114755f31348e": {
          "model_module": "@jupyter-widgets/controls",
          "model_name": "FloatProgressModel",
          "model_module_version": "1.5.0",
          "state": {
            "_dom_classes": [],
            "_model_module": "@jupyter-widgets/controls",
            "_model_module_version": "1.5.0",
            "_model_name": "FloatProgressModel",
            "_view_count": null,
            "_view_module": "@jupyter-widgets/controls",
            "_view_module_version": "1.5.0",
            "_view_name": "ProgressView",
            "bar_style": "",
            "description": "",
            "description_tooltip": null,
            "layout": "IPY_MODEL_c8c937ad172c4af48beb2e0c25b403d7",
            "max": 20,
            "min": 0,
            "orientation": "horizontal",
            "style": "IPY_MODEL_00e4a679e13c489ba25de57aceaf14c6",
            "value": 14
          }
        },
        "ab4c76ac67c54582996a74248ce74e13": {
          "model_module": "@jupyter-widgets/controls",
          "model_name": "HTMLModel",
          "model_module_version": "1.5.0",
          "state": {
            "_dom_classes": [],
            "_model_module": "@jupyter-widgets/controls",
            "_model_module_version": "1.5.0",
            "_model_name": "HTMLModel",
            "_view_count": null,
            "_view_module": "@jupyter-widgets/controls",
            "_view_module_version": "1.5.0",
            "_view_name": "HTMLView",
            "description": "",
            "description_tooltip": null,
            "layout": "IPY_MODEL_f32236c7aa164155b779c755a522e735",
            "placeholder": "​",
            "style": "IPY_MODEL_02c936284c3c49d390dbe84312ccfa21",
            "value": " 14/20 [3:14:41&lt;2:26:01, 1460.30s/it]"
          }
        },
        "e0b9e9e01b864210a8ac8b798fdca600": {
          "model_module": "@jupyter-widgets/base",
          "model_name": "LayoutModel",
          "model_module_version": "1.2.0",
          "state": {
            "_model_module": "@jupyter-widgets/base",
            "_model_module_version": "1.2.0",
            "_model_name": "LayoutModel",
            "_view_count": null,
            "_view_module": "@jupyter-widgets/base",
            "_view_module_version": "1.2.0",
            "_view_name": "LayoutView",
            "align_content": null,
            "align_items": null,
            "align_self": null,
            "border": null,
            "bottom": null,
            "display": null,
            "flex": null,
            "flex_flow": null,
            "grid_area": null,
            "grid_auto_columns": null,
            "grid_auto_flow": null,
            "grid_auto_rows": null,
            "grid_column": null,
            "grid_gap": null,
            "grid_row": null,
            "grid_template_areas": null,
            "grid_template_columns": null,
            "grid_template_rows": null,
            "height": null,
            "justify_content": null,
            "justify_items": null,
            "left": null,
            "margin": null,
            "max_height": null,
            "max_width": null,
            "min_height": null,
            "min_width": null,
            "object_fit": null,
            "object_position": null,
            "order": null,
            "overflow": null,
            "overflow_x": null,
            "overflow_y": null,
            "padding": null,
            "right": null,
            "top": null,
            "visibility": null,
            "width": null
          }
        },
        "94bd0a9bb4824ad6aac349759da6fca8": {
          "model_module": "@jupyter-widgets/base",
          "model_name": "LayoutModel",
          "model_module_version": "1.2.0",
          "state": {
            "_model_module": "@jupyter-widgets/base",
            "_model_module_version": "1.2.0",
            "_model_name": "LayoutModel",
            "_view_count": null,
            "_view_module": "@jupyter-widgets/base",
            "_view_module_version": "1.2.0",
            "_view_name": "LayoutView",
            "align_content": null,
            "align_items": null,
            "align_self": null,
            "border": null,
            "bottom": null,
            "display": null,
            "flex": null,
            "flex_flow": null,
            "grid_area": null,
            "grid_auto_columns": null,
            "grid_auto_flow": null,
            "grid_auto_rows": null,
            "grid_column": null,
            "grid_gap": null,
            "grid_row": null,
            "grid_template_areas": null,
            "grid_template_columns": null,
            "grid_template_rows": null,
            "height": null,
            "justify_content": null,
            "justify_items": null,
            "left": null,
            "margin": null,
            "max_height": null,
            "max_width": null,
            "min_height": null,
            "min_width": null,
            "object_fit": null,
            "object_position": null,
            "order": null,
            "overflow": null,
            "overflow_x": null,
            "overflow_y": null,
            "padding": null,
            "right": null,
            "top": null,
            "visibility": null,
            "width": null
          }
        },
        "a6e9efd5c8ee4a1b82e311142dbfb222": {
          "model_module": "@jupyter-widgets/controls",
          "model_name": "DescriptionStyleModel",
          "model_module_version": "1.5.0",
          "state": {
            "_model_module": "@jupyter-widgets/controls",
            "_model_module_version": "1.5.0",
            "_model_name": "DescriptionStyleModel",
            "_view_count": null,
            "_view_module": "@jupyter-widgets/base",
            "_view_module_version": "1.2.0",
            "_view_name": "StyleView",
            "description_width": ""
          }
        },
        "c8c937ad172c4af48beb2e0c25b403d7": {
          "model_module": "@jupyter-widgets/base",
          "model_name": "LayoutModel",
          "model_module_version": "1.2.0",
          "state": {
            "_model_module": "@jupyter-widgets/base",
            "_model_module_version": "1.2.0",
            "_model_name": "LayoutModel",
            "_view_count": null,
            "_view_module": "@jupyter-widgets/base",
            "_view_module_version": "1.2.0",
            "_view_name": "LayoutView",
            "align_content": null,
            "align_items": null,
            "align_self": null,
            "border": null,
            "bottom": null,
            "display": null,
            "flex": null,
            "flex_flow": null,
            "grid_area": null,
            "grid_auto_columns": null,
            "grid_auto_flow": null,
            "grid_auto_rows": null,
            "grid_column": null,
            "grid_gap": null,
            "grid_row": null,
            "grid_template_areas": null,
            "grid_template_columns": null,
            "grid_template_rows": null,
            "height": null,
            "justify_content": null,
            "justify_items": null,
            "left": null,
            "margin": null,
            "max_height": null,
            "max_width": null,
            "min_height": null,
            "min_width": null,
            "object_fit": null,
            "object_position": null,
            "order": null,
            "overflow": null,
            "overflow_x": null,
            "overflow_y": null,
            "padding": null,
            "right": null,
            "top": null,
            "visibility": null,
            "width": null
          }
        },
        "00e4a679e13c489ba25de57aceaf14c6": {
          "model_module": "@jupyter-widgets/controls",
          "model_name": "ProgressStyleModel",
          "model_module_version": "1.5.0",
          "state": {
            "_model_module": "@jupyter-widgets/controls",
            "_model_module_version": "1.5.0",
            "_model_name": "ProgressStyleModel",
            "_view_count": null,
            "_view_module": "@jupyter-widgets/base",
            "_view_module_version": "1.2.0",
            "_view_name": "StyleView",
            "bar_color": null,
            "description_width": ""
          }
        },
        "f32236c7aa164155b779c755a522e735": {
          "model_module": "@jupyter-widgets/base",
          "model_name": "LayoutModel",
          "model_module_version": "1.2.0",
          "state": {
            "_model_module": "@jupyter-widgets/base",
            "_model_module_version": "1.2.0",
            "_model_name": "LayoutModel",
            "_view_count": null,
            "_view_module": "@jupyter-widgets/base",
            "_view_module_version": "1.2.0",
            "_view_name": "LayoutView",
            "align_content": null,
            "align_items": null,
            "align_self": null,
            "border": null,
            "bottom": null,
            "display": null,
            "flex": null,
            "flex_flow": null,
            "grid_area": null,
            "grid_auto_columns": null,
            "grid_auto_flow": null,
            "grid_auto_rows": null,
            "grid_column": null,
            "grid_gap": null,
            "grid_row": null,
            "grid_template_areas": null,
            "grid_template_columns": null,
            "grid_template_rows": null,
            "height": null,
            "justify_content": null,
            "justify_items": null,
            "left": null,
            "margin": null,
            "max_height": null,
            "max_width": null,
            "min_height": null,
            "min_width": null,
            "object_fit": null,
            "object_position": null,
            "order": null,
            "overflow": null,
            "overflow_x": null,
            "overflow_y": null,
            "padding": null,
            "right": null,
            "top": null,
            "visibility": null,
            "width": null
          }
        },
        "02c936284c3c49d390dbe84312ccfa21": {
          "model_module": "@jupyter-widgets/controls",
          "model_name": "DescriptionStyleModel",
          "model_module_version": "1.5.0",
          "state": {
            "_model_module": "@jupyter-widgets/controls",
            "_model_module_version": "1.5.0",
            "_model_name": "DescriptionStyleModel",
            "_view_count": null,
            "_view_module": "@jupyter-widgets/base",
            "_view_module_version": "1.2.0",
            "_view_name": "StyleView",
            "description_width": ""
          }
        }
      }
    }
  },
  "cells": [
    {
      "cell_type": "code",
      "execution_count": 1,
      "metadata": {
        "id": "B4rZlIkKzzuv"
      },
      "outputs": [],
      "source": [
        "!cd drive/MyDrive"
      ]
    },
    {
      "cell_type": "code",
      "source": [
        "!pip install pandas-profiling"
      ],
      "metadata": {
        "colab": {
          "base_uri": "https://localhost:8080/"
        },
        "id": "1O5SVOap0vGa",
        "outputId": "f3837dca-a9ac-4d5a-f589-beae4a67da21"
      },
      "execution_count": 2,
      "outputs": [
        {
          "output_type": "stream",
          "name": "stdout",
          "text": [
            "Collecting pandas-profiling\n",
            "  Downloading pandas_profiling-3.6.6-py2.py3-none-any.whl (324 kB)\n",
            "\u001b[?25l     \u001b[90m━━━━━━━━━━━━━━━━━━━━━━━━━━━━━━━━━━━━━━━━\u001b[0m \u001b[32m0.0/324.4 kB\u001b[0m \u001b[31m?\u001b[0m eta \u001b[36m-:--:--\u001b[0m\r\u001b[2K     \u001b[91m━━━━━━━━━━━━━━━━━━━━━━━━━━━━━━\u001b[0m\u001b[91m╸\u001b[0m\u001b[90m━━━━━━━━\u001b[0m \u001b[32m256.0/324.4 kB\u001b[0m \u001b[31m7.5 MB/s\u001b[0m eta \u001b[36m0:00:01\u001b[0m\r\u001b[2K     \u001b[90m━━━━━━━━━━━━━━━━━━━━━━━━━━━━━━━━━━━━━━━\u001b[0m \u001b[32m324.4/324.4 kB\u001b[0m \u001b[31m7.0 MB/s\u001b[0m eta \u001b[36m0:00:00\u001b[0m\n",
            "\u001b[?25hCollecting ydata-profiling (from pandas-profiling)\n",
            "  Downloading ydata_profiling-4.5.1-py2.py3-none-any.whl (357 kB)\n",
            "\u001b[2K     \u001b[90m━━━━━━━━━━━━━━━━━━━━━━━━━━━━━━━━━━━━━━\u001b[0m \u001b[32m357.3/357.3 kB\u001b[0m \u001b[31m11.1 MB/s\u001b[0m eta \u001b[36m0:00:00\u001b[0m\n",
            "\u001b[?25hRequirement already satisfied: scipy<1.12,>=1.4.1 in /usr/local/lib/python3.10/dist-packages (from ydata-profiling->pandas-profiling) (1.11.2)\n",
            "Requirement already satisfied: pandas!=1.4.0,<2.1,>1.1 in /usr/local/lib/python3.10/dist-packages (from ydata-profiling->pandas-profiling) (1.5.3)\n",
            "Requirement already satisfied: matplotlib<4,>=3.2 in /usr/local/lib/python3.10/dist-packages (from ydata-profiling->pandas-profiling) (3.7.1)\n",
            "Requirement already satisfied: pydantic<2,>=1.8.1 in /usr/local/lib/python3.10/dist-packages (from ydata-profiling->pandas-profiling) (1.10.12)\n",
            "Requirement already satisfied: PyYAML<6.1,>=5.0.0 in /usr/local/lib/python3.10/dist-packages (from ydata-profiling->pandas-profiling) (6.0.1)\n",
            "Requirement already satisfied: jinja2<3.2,>=2.11.1 in /usr/local/lib/python3.10/dist-packages (from ydata-profiling->pandas-profiling) (3.1.2)\n",
            "Collecting visions[type_image_path]==0.7.5 (from ydata-profiling->pandas-profiling)\n",
            "  Downloading visions-0.7.5-py3-none-any.whl (102 kB)\n",
            "\u001b[2K     \u001b[90m━━━━━━━━━━━━━━━━━━━━━━━━━━━━━━━━━━━━━━\u001b[0m \u001b[32m102.7/102.7 kB\u001b[0m \u001b[31m11.0 MB/s\u001b[0m eta \u001b[36m0:00:00\u001b[0m\n",
            "\u001b[?25hRequirement already satisfied: numpy<1.24,>=1.16.0 in /usr/local/lib/python3.10/dist-packages (from ydata-profiling->pandas-profiling) (1.23.5)\n",
            "Collecting htmlmin==0.1.12 (from ydata-profiling->pandas-profiling)\n",
            "  Downloading htmlmin-0.1.12.tar.gz (19 kB)\n",
            "  Preparing metadata (setup.py) ... \u001b[?25l\u001b[?25hdone\n",
            "Collecting phik<0.13,>=0.11.1 (from ydata-profiling->pandas-profiling)\n",
            "  Downloading phik-0.12.3-cp310-cp310-manylinux_2_17_x86_64.manylinux2014_x86_64.whl (679 kB)\n",
            "\u001b[2K     \u001b[90m━━━━━━━━━━━━━━━━━━━━━━━━━━━━━━━━━━━━━━\u001b[0m \u001b[32m679.5/679.5 kB\u001b[0m \u001b[31m15.0 MB/s\u001b[0m eta \u001b[36m0:00:00\u001b[0m\n",
            "\u001b[?25hRequirement already satisfied: requests<3,>=2.24.0 in /usr/local/lib/python3.10/dist-packages (from ydata-profiling->pandas-profiling) (2.31.0)\n",
            "Requirement already satisfied: tqdm<5,>=4.48.2 in /usr/local/lib/python3.10/dist-packages (from ydata-profiling->pandas-profiling) (4.66.1)\n",
            "Requirement already satisfied: seaborn<0.13,>=0.10.1 in /usr/local/lib/python3.10/dist-packages (from ydata-profiling->pandas-profiling) (0.12.2)\n",
            "Collecting multimethod<2,>=1.4 (from ydata-profiling->pandas-profiling)\n",
            "  Downloading multimethod-1.9.1-py3-none-any.whl (10 kB)\n",
            "Requirement already satisfied: statsmodels<1,>=0.13.2 in /usr/local/lib/python3.10/dist-packages (from ydata-profiling->pandas-profiling) (0.14.0)\n",
            "Collecting typeguard<3,>=2.13.2 (from ydata-profiling->pandas-profiling)\n",
            "  Downloading typeguard-2.13.3-py3-none-any.whl (17 kB)\n",
            "Collecting imagehash==4.3.1 (from ydata-profiling->pandas-profiling)\n",
            "  Downloading ImageHash-4.3.1-py2.py3-none-any.whl (296 kB)\n",
            "\u001b[2K     \u001b[90m━━━━━━━━━━━━━━━━━━━━━━━━━━━━━━━━━━━━━━\u001b[0m \u001b[32m296.5/296.5 kB\u001b[0m \u001b[31m15.4 MB/s\u001b[0m eta \u001b[36m0:00:00\u001b[0m\n",
            "\u001b[?25hRequirement already satisfied: wordcloud>=1.9.1 in /usr/local/lib/python3.10/dist-packages (from ydata-profiling->pandas-profiling) (1.9.2)\n",
            "Collecting dacite>=1.8 (from ydata-profiling->pandas-profiling)\n",
            "  Downloading dacite-1.8.1-py3-none-any.whl (14 kB)\n",
            "Requirement already satisfied: PyWavelets in /usr/local/lib/python3.10/dist-packages (from imagehash==4.3.1->ydata-profiling->pandas-profiling) (1.4.1)\n",
            "Requirement already satisfied: pillow in /usr/local/lib/python3.10/dist-packages (from imagehash==4.3.1->ydata-profiling->pandas-profiling) (9.4.0)\n",
            "Requirement already satisfied: attrs>=19.3.0 in /usr/local/lib/python3.10/dist-packages (from visions[type_image_path]==0.7.5->ydata-profiling->pandas-profiling) (23.1.0)\n",
            "Requirement already satisfied: networkx>=2.4 in /usr/local/lib/python3.10/dist-packages (from visions[type_image_path]==0.7.5->ydata-profiling->pandas-profiling) (3.1)\n",
            "Collecting tangled-up-in-unicode>=0.0.4 (from visions[type_image_path]==0.7.5->ydata-profiling->pandas-profiling)\n",
            "  Downloading tangled_up_in_unicode-0.2.0-py3-none-any.whl (4.7 MB)\n",
            "\u001b[2K     \u001b[90m━━━━━━━━━━━━━━━━━━━━━━━━━━━━━━━━━━━━━━━━\u001b[0m \u001b[32m4.7/4.7 MB\u001b[0m \u001b[31m29.9 MB/s\u001b[0m eta \u001b[36m0:00:00\u001b[0m\n",
            "\u001b[?25hRequirement already satisfied: MarkupSafe>=2.0 in /usr/local/lib/python3.10/dist-packages (from jinja2<3.2,>=2.11.1->ydata-profiling->pandas-profiling) (2.1.3)\n",
            "Requirement already satisfied: contourpy>=1.0.1 in /usr/local/lib/python3.10/dist-packages (from matplotlib<4,>=3.2->ydata-profiling->pandas-profiling) (1.1.0)\n",
            "Requirement already satisfied: cycler>=0.10 in /usr/local/lib/python3.10/dist-packages (from matplotlib<4,>=3.2->ydata-profiling->pandas-profiling) (0.11.0)\n",
            "Requirement already satisfied: fonttools>=4.22.0 in /usr/local/lib/python3.10/dist-packages (from matplotlib<4,>=3.2->ydata-profiling->pandas-profiling) (4.42.1)\n",
            "Requirement already satisfied: kiwisolver>=1.0.1 in /usr/local/lib/python3.10/dist-packages (from matplotlib<4,>=3.2->ydata-profiling->pandas-profiling) (1.4.5)\n",
            "Requirement already satisfied: packaging>=20.0 in /usr/local/lib/python3.10/dist-packages (from matplotlib<4,>=3.2->ydata-profiling->pandas-profiling) (23.1)\n",
            "Requirement already satisfied: pyparsing>=2.3.1 in /usr/local/lib/python3.10/dist-packages (from matplotlib<4,>=3.2->ydata-profiling->pandas-profiling) (3.1.1)\n",
            "Requirement already satisfied: python-dateutil>=2.7 in /usr/local/lib/python3.10/dist-packages (from matplotlib<4,>=3.2->ydata-profiling->pandas-profiling) (2.8.2)\n",
            "Requirement already satisfied: pytz>=2020.1 in /usr/local/lib/python3.10/dist-packages (from pandas!=1.4.0,<2.1,>1.1->ydata-profiling->pandas-profiling) (2023.3.post1)\n",
            "Requirement already satisfied: joblib>=0.14.1 in /usr/local/lib/python3.10/dist-packages (from phik<0.13,>=0.11.1->ydata-profiling->pandas-profiling) (1.3.2)\n",
            "Requirement already satisfied: typing-extensions>=4.2.0 in /usr/local/lib/python3.10/dist-packages (from pydantic<2,>=1.8.1->ydata-profiling->pandas-profiling) (4.5.0)\n",
            "Requirement already satisfied: charset-normalizer<4,>=2 in /usr/local/lib/python3.10/dist-packages (from requests<3,>=2.24.0->ydata-profiling->pandas-profiling) (3.2.0)\n",
            "Requirement already satisfied: idna<4,>=2.5 in /usr/local/lib/python3.10/dist-packages (from requests<3,>=2.24.0->ydata-profiling->pandas-profiling) (3.4)\n",
            "Requirement already satisfied: urllib3<3,>=1.21.1 in /usr/local/lib/python3.10/dist-packages (from requests<3,>=2.24.0->ydata-profiling->pandas-profiling) (2.0.4)\n",
            "Requirement already satisfied: certifi>=2017.4.17 in /usr/local/lib/python3.10/dist-packages (from requests<3,>=2.24.0->ydata-profiling->pandas-profiling) (2023.7.22)\n",
            "Requirement already satisfied: patsy>=0.5.2 in /usr/local/lib/python3.10/dist-packages (from statsmodels<1,>=0.13.2->ydata-profiling->pandas-profiling) (0.5.3)\n",
            "Requirement already satisfied: six in /usr/local/lib/python3.10/dist-packages (from patsy>=0.5.2->statsmodels<1,>=0.13.2->ydata-profiling->pandas-profiling) (1.16.0)\n",
            "Building wheels for collected packages: htmlmin\n",
            "  Building wheel for htmlmin (setup.py) ... \u001b[?25l\u001b[?25hdone\n",
            "  Created wheel for htmlmin: filename=htmlmin-0.1.12-py3-none-any.whl size=27081 sha256=58836bd7af02e0d88ec3796bfae8d7be6c0771a8505e54da887d9c9586e667a6\n",
            "  Stored in directory: /root/.cache/pip/wheels/dd/91/29/a79cecb328d01739e64017b6fb9a1ab9d8cb1853098ec5966d\n",
            "Successfully built htmlmin\n",
            "Installing collected packages: htmlmin, typeguard, tangled-up-in-unicode, multimethod, dacite, imagehash, visions, phik, ydata-profiling, pandas-profiling\n",
            "Successfully installed dacite-1.8.1 htmlmin-0.1.12 imagehash-4.3.1 multimethod-1.9.1 pandas-profiling-3.6.6 phik-0.12.3 tangled-up-in-unicode-0.2.0 typeguard-2.13.3 visions-0.7.5 ydata-profiling-4.5.1\n"
          ]
        }
      ]
    },
    {
      "cell_type": "code",
      "source": [
        "!pip install optuna"
      ],
      "metadata": {
        "colab": {
          "base_uri": "https://localhost:8080/"
        },
        "id": "PkjH3__102zg",
        "outputId": "ecebb184-9aa9-47bd-e87a-cb3483848995"
      },
      "execution_count": 2,
      "outputs": [
        {
          "output_type": "stream",
          "name": "stdout",
          "text": [
            "Collecting optuna\n",
            "  Downloading optuna-3.3.0-py3-none-any.whl (404 kB)\n",
            "\u001b[2K     \u001b[90m━━━━━━━━━━━━━━━━━━━━━━━━━━━━━━━━━━━━━━━\u001b[0m \u001b[32m404.2/404.2 kB\u001b[0m \u001b[31m6.3 MB/s\u001b[0m eta \u001b[36m0:00:00\u001b[0m\n",
            "\u001b[?25hCollecting alembic>=1.5.0 (from optuna)\n",
            "  Downloading alembic-1.12.0-py3-none-any.whl (226 kB)\n",
            "\u001b[2K     \u001b[90m━━━━━━━━━━━━━━━━━━━━━━━━━━━━━━━━━━━━━━\u001b[0m \u001b[32m226.0/226.0 kB\u001b[0m \u001b[31m20.3 MB/s\u001b[0m eta \u001b[36m0:00:00\u001b[0m\n",
            "\u001b[?25hCollecting cmaes>=0.10.0 (from optuna)\n",
            "  Downloading cmaes-0.10.0-py3-none-any.whl (29 kB)\n",
            "Collecting colorlog (from optuna)\n",
            "  Downloading colorlog-6.7.0-py2.py3-none-any.whl (11 kB)\n",
            "Requirement already satisfied: numpy in /usr/local/lib/python3.10/dist-packages (from optuna) (1.23.5)\n",
            "Requirement already satisfied: packaging>=20.0 in /usr/local/lib/python3.10/dist-packages (from optuna) (23.1)\n",
            "Requirement already satisfied: sqlalchemy>=1.3.0 in /usr/local/lib/python3.10/dist-packages (from optuna) (2.0.20)\n",
            "Requirement already satisfied: tqdm in /usr/local/lib/python3.10/dist-packages (from optuna) (4.66.1)\n",
            "Requirement already satisfied: PyYAML in /usr/local/lib/python3.10/dist-packages (from optuna) (6.0.1)\n",
            "Collecting Mako (from alembic>=1.5.0->optuna)\n",
            "  Downloading Mako-1.2.4-py3-none-any.whl (78 kB)\n",
            "\u001b[2K     \u001b[90m━━━━━━━━━━━━━━━━━━━━━━━━━━━━━━━━━━━━━━━━\u001b[0m \u001b[32m78.7/78.7 kB\u001b[0m \u001b[31m9.2 MB/s\u001b[0m eta \u001b[36m0:00:00\u001b[0m\n",
            "\u001b[?25hRequirement already satisfied: typing-extensions>=4 in /usr/local/lib/python3.10/dist-packages (from alembic>=1.5.0->optuna) (4.5.0)\n",
            "Requirement already satisfied: greenlet!=0.4.17 in /usr/local/lib/python3.10/dist-packages (from sqlalchemy>=1.3.0->optuna) (2.0.2)\n",
            "Requirement already satisfied: MarkupSafe>=0.9.2 in /usr/local/lib/python3.10/dist-packages (from Mako->alembic>=1.5.0->optuna) (2.1.3)\n",
            "Installing collected packages: Mako, colorlog, cmaes, alembic, optuna\n",
            "Successfully installed Mako-1.2.4 alembic-1.12.0 cmaes-0.10.0 colorlog-6.7.0 optuna-3.3.0\n"
          ]
        }
      ]
    },
    {
      "cell_type": "code",
      "source": [
        "import pandas as pd\n",
        "import time\n",
        "from sklearn.model_selection import train_test_split\n",
        "from sklearn.preprocessing import StandardScaler\n",
        "from pandas_profiling import ProfileReport\n",
        "from sklearn.ensemble import IsolationForest\n",
        "import optuna\n",
        "import numpy as np\n",
        "from sklearn.metrics import classification_report,confusion_matrix\n",
        "import seaborn as sns\n",
        "import matplotlib.pyplot as plt\n",
        "\n",
        "from sklearn.metrics import f1_score, roc_auc_score\n",
        "from xgboost import XGBClassifier\n",
        "from sklearn.model_selection import StratifiedKFold, RandomizedSearchCV, cross_val_score, GridSearchCV\n",
        "from sklearn.ensemble import HistGradientBoostingClassifier\n",
        "\n",
        "import warnings\n",
        "warnings.filterwarnings('ignore')\n",
        "pd.set_option('display.max_columns',None)"
      ],
      "metadata": {
        "id": "8oSSvLk20mu5"
      },
      "execution_count": 3,
      "outputs": []
    },
    {
      "cell_type": "code",
      "source": [
        "start_time = time.time()\n",
        "data = pd.read_csv('/content/drive/MyDrive/Copy_of_FraudDetectionDataset.csv')\n",
        "end_time = time.time()"
      ],
      "metadata": {
        "id": "qVI5Rn4809Pf"
      },
      "execution_count": 5,
      "outputs": []
    },
    {
      "cell_type": "code",
      "source": [
        "# Randomly Sampling a subset for experimentaion and resource management\n",
        "\n",
        "random_seed = 42\n",
        "df_sampled = data.sample(n=600000, random_state=random_seed)"
      ],
      "metadata": {
        "id": "IL-e_0qZ1Mvz"
      },
      "execution_count": 6,
      "outputs": []
    },
    {
      "cell_type": "code",
      "source": [
        "# save the random sample to .csv\n",
        "df_sampled.to_csv('sampled_dfa23_data.csv',index=False)"
      ],
      "metadata": {
        "id": "3SKlK1ni1kSb"
      },
      "execution_count": 7,
      "outputs": []
    },
    {
      "cell_type": "markdown",
      "source": [
        "#### Data Exploration and Feature Engineering"
      ],
      "metadata": {
        "id": "Bn_6JE-H1wly"
      }
    },
    {
      "cell_type": "code",
      "source": [
        "df_sampled.shape"
      ],
      "metadata": {
        "colab": {
          "base_uri": "https://localhost:8080/"
        },
        "id": "_hCGlr-y2oRI",
        "outputId": "9a4aa749-34cf-4d3c-fe6d-d04e08a73b8d"
      },
      "execution_count": 8,
      "outputs": [
        {
          "output_type": "execute_result",
          "data": {
            "text/plain": [
              "(600000, 32)"
            ]
          },
          "metadata": {},
          "execution_count": 8
        }
      ]
    },
    {
      "cell_type": "code",
      "source": [
        "df_sampled.isnull().sum()"
      ],
      "metadata": {
        "colab": {
          "base_uri": "https://localhost:8080/"
        },
        "id": "Guko-kv325rw",
        "outputId": "bd6dd720-833e-4c3f-a5e3-486fbe0531f0"
      },
      "execution_count": 9,
      "outputs": [
        {
          "output_type": "execute_result",
          "data": {
            "text/plain": [
              "Transaction ID                       0\n",
              "User ID                              0\n",
              "Transaction Amount                   0\n",
              "Transaction Date and Time            0\n",
              "Merchant ID                          0\n",
              "Payment Method                       0\n",
              "Country Code                         0\n",
              "Transaction Type                     0\n",
              "Device Type                          0\n",
              "IP Address                           0\n",
              "Browser Type                         0\n",
              "Operating System                     0\n",
              "Merchant Category                    0\n",
              "User Age                             0\n",
              "User Occupation                      0\n",
              "User Income                          0\n",
              "User Gender                          0\n",
              "User Account Status                  0\n",
              "Transaction Status                   0\n",
              "Location Distance                    0\n",
              "Time Taken for Transaction           0\n",
              "Transaction Time of Day              0\n",
              "User's Transaction History           0\n",
              "Merchant's Reputation Score          0\n",
              "User's Device Location               0\n",
              "Transaction Currency                 0\n",
              "Transaction Purpose                  0\n",
              "User's Credit Score                  0\n",
              "User's Email Domain                  0\n",
              "Merchant's Business Age              0\n",
              "Transaction Authentication Method    0\n",
              "Fraudulent Flag                      0\n",
              "dtype: int64"
            ]
          },
          "metadata": {},
          "execution_count": 9
        }
      ]
    },
    {
      "cell_type": "code",
      "source": [
        "df_sampled['Fraudulent Flag'].value_counts(normalize=True)"
      ],
      "metadata": {
        "colab": {
          "base_uri": "https://localhost:8080/"
        },
        "id": "qMRn5Fg032vY",
        "outputId": "d60e7687-2e5b-4ea2-9fc7-13f54613814d"
      },
      "execution_count": 11,
      "outputs": [
        {
          "output_type": "execute_result",
          "data": {
            "text/plain": [
              "0    0.50062\n",
              "1    0.49938\n",
              "Name: Fraudulent Flag, dtype: float64"
            ]
          },
          "metadata": {},
          "execution_count": 11
        }
      ]
    },
    {
      "cell_type": "code",
      "source": [
        "# From above it can be seen the distribution of the classes is maintained"
      ],
      "metadata": {
        "id": "F0Nf9tTv3_kb"
      },
      "execution_count": 12,
      "outputs": []
    },
    {
      "cell_type": "code",
      "source": [
        "# Splitting into train and test data and ensuring stratification around the class 'Fraudulent Flag'\n",
        "train , test = train_test_split(df_sampled, test_size = 0.3, stratify=df_sampled['Fraudulent Flag'])"
      ],
      "metadata": {
        "id": "Sd3vE34B3uID"
      },
      "execution_count": 15,
      "outputs": []
    },
    {
      "cell_type": "code",
      "source": [
        "train.reset_index(drop=True, inplace=True)\n",
        "test.reset_index(drop=True, inplace=True)"
      ],
      "metadata": {
        "id": "rHBjJXjk5kKY"
      },
      "execution_count": 17,
      "outputs": []
    },
    {
      "cell_type": "code",
      "source": [
        "# no null values , now utilizng pandas profiling for a quick EDA of the variable, seeing as the data has been\n",
        "# sampled down to 600k, we can include correlation and binning , hence 'minimal=False'"
      ],
      "metadata": {
        "id": "wzbVZvre293l"
      },
      "execution_count": 10,
      "outputs": []
    },
    {
      "cell_type": "markdown",
      "source": [
        "### Using Pandas Profiling for EDA around the dataset"
      ],
      "metadata": {
        "id": "YENj3sklqw0r"
      }
    },
    {
      "cell_type": "code",
      "source": [
        "profile = ProfileReport(train, minimal=False)"
      ],
      "metadata": {
        "id": "TISyg2wk3mve"
      },
      "execution_count": 18,
      "outputs": []
    },
    {
      "cell_type": "code",
      "source": [
        "profile.to_file(\"avonmaet_EDA_report.html\")\n",
        "#profile.to_widgets()"
      ],
      "metadata": {
        "colab": {
          "base_uri": "https://localhost:8080/"
        },
        "id": "qLuoMih_5d9X",
        "outputId": "580c2b36-d5d4-4d46-9b77-28adc8db2ba1"
      },
      "execution_count": 20,
      "outputs": [
        {
          "output_type": "display_data",
          "data": {
            "text/plain": [
              "Render HTML:   0%|          | 0/1 [00:00<?, ?it/s]"
            ],
            "application/vnd.jupyter.widget-view+json": {
              "version_major": 2,
              "version_minor": 0,
              "model_id": "fdbae27994d94a8596efb7ac6bf9c112"
            }
          },
          "metadata": {}
        },
        {
          "output_type": "display_data",
          "data": {
            "text/plain": [
              "Export report to file:   0%|          | 0/1 [00:00<?, ?it/s]"
            ],
            "application/vnd.jupyter.widget-view+json": {
              "version_major": 2,
              "version_minor": 0,
              "model_id": "dc46f299b2cd4361ab75ad7431cad81c"
            }
          },
          "metadata": {}
        }
      ]
    },
    {
      "cell_type": "markdown",
      "source": [
        "The report is attached to this repo"
      ],
      "metadata": {
        "id": "ULHfCTpWq3rS"
      }
    },
    {
      "cell_type": "code",
      "source": [
        "train_ids = train[['Transaction ID','User ID']]\n",
        "test_ids = test[['Transaction ID','User ID']]"
      ],
      "metadata": {
        "id": "CCWPvd485wnL"
      },
      "execution_count": 21,
      "outputs": []
    },
    {
      "cell_type": "code",
      "source": [
        "train.columns"
      ],
      "metadata": {
        "colab": {
          "base_uri": "https://localhost:8080/"
        },
        "id": "ykigP1fg78q6",
        "outputId": "a863a043-4e7d-4bdb-ab7a-8b667007a599"
      },
      "execution_count": 22,
      "outputs": [
        {
          "output_type": "execute_result",
          "data": {
            "text/plain": [
              "Index(['Transaction ID', 'User ID', 'Transaction Amount',\n",
              "       'Transaction Date and Time', 'Merchant ID', 'Payment Method',\n",
              "       'Country Code', 'Transaction Type', 'Device Type', 'IP Address',\n",
              "       'Browser Type', 'Operating System', 'Merchant Category', 'User Age',\n",
              "       'User Occupation', 'User Income', 'User Gender', 'User Account Status',\n",
              "       'Transaction Status', 'Location Distance', 'Time Taken for Transaction',\n",
              "       'Transaction Time of Day', 'User's Transaction History',\n",
              "       'Merchant's Reputation Score', 'User's Device Location',\n",
              "       'Transaction Currency', 'Transaction Purpose', 'User's Credit Score',\n",
              "       'User's Email Domain', 'Merchant's Business Age',\n",
              "       'Transaction Authentication Method', 'Fraudulent Flag'],\n",
              "      dtype='object')"
            ]
          },
          "metadata": {},
          "execution_count": 22
        }
      ]
    },
    {
      "cell_type": "code",
      "source": [
        "train.info()"
      ],
      "metadata": {
        "colab": {
          "base_uri": "https://localhost:8080/"
        },
        "id": "WoUXEG2L9F5G",
        "outputId": "35255bbc-a811-4d3b-e737-780cfac360d1"
      },
      "execution_count": 23,
      "outputs": [
        {
          "output_type": "stream",
          "name": "stdout",
          "text": [
            "<class 'pandas.core.frame.DataFrame'>\n",
            "RangeIndex: 420000 entries, 0 to 419999\n",
            "Data columns (total 32 columns):\n",
            " #   Column                             Non-Null Count   Dtype  \n",
            "---  ------                             --------------   -----  \n",
            " 0   Transaction ID                     420000 non-null  int64  \n",
            " 1   User ID                            420000 non-null  int64  \n",
            " 2   Transaction Amount                 420000 non-null  float64\n",
            " 3   Transaction Date and Time          420000 non-null  object \n",
            " 4   Merchant ID                        420000 non-null  int64  \n",
            " 5   Payment Method                     420000 non-null  object \n",
            " 6   Country Code                       420000 non-null  object \n",
            " 7   Transaction Type                   420000 non-null  object \n",
            " 8   Device Type                        420000 non-null  object \n",
            " 9   IP Address                         420000 non-null  object \n",
            " 10  Browser Type                       420000 non-null  object \n",
            " 11  Operating System                   420000 non-null  object \n",
            " 12  Merchant Category                  420000 non-null  object \n",
            " 13  User Age                           420000 non-null  int64  \n",
            " 14  User Occupation                    420000 non-null  object \n",
            " 15  User Income                        420000 non-null  float64\n",
            " 16  User Gender                        420000 non-null  object \n",
            " 17  User Account Status                420000 non-null  object \n",
            " 18  Transaction Status                 420000 non-null  object \n",
            " 19  Location Distance                  420000 non-null  float64\n",
            " 20  Time Taken for Transaction         420000 non-null  float64\n",
            " 21  Transaction Time of Day            420000 non-null  object \n",
            " 22  User's Transaction History         420000 non-null  int64  \n",
            " 23  Merchant's Reputation Score        420000 non-null  float64\n",
            " 24  User's Device Location             420000 non-null  object \n",
            " 25  Transaction Currency               420000 non-null  object \n",
            " 26  Transaction Purpose                420000 non-null  object \n",
            " 27  User's Credit Score                420000 non-null  int64  \n",
            " 28  User's Email Domain                420000 non-null  object \n",
            " 29  Merchant's Business Age            420000 non-null  int64  \n",
            " 30  Transaction Authentication Method  420000 non-null  object \n",
            " 31  Fraudulent Flag                    420000 non-null  int64  \n",
            "dtypes: float64(5), int64(8), object(19)\n",
            "memory usage: 102.5+ MB\n"
          ]
        }
      ]
    },
    {
      "cell_type": "code",
      "source": [
        "train_numeric_columns = train.select_dtypes(include=['number'])"
      ],
      "metadata": {
        "id": "xfPSlIc1BcP-"
      },
      "execution_count": 24,
      "outputs": []
    },
    {
      "cell_type": "code",
      "source": [
        "train_numeric_columns.drop(['Transaction ID','User ID','Merchant ID','Fraudulent Flag'],axis=1,inplace=True)"
      ],
      "metadata": {
        "id": "UDM6p4DjCBBZ"
      },
      "execution_count": 27,
      "outputs": []
    },
    {
      "cell_type": "markdown",
      "source": [
        "### Building a baseline model with Anomaly detection algorithm 'Isolation Forest'"
      ],
      "metadata": {
        "id": "8prAK4hSCDG4"
      }
    },
    {
      "cell_type": "code",
      "source": [
        "scaler = StandardScaler()\n",
        "scaler.fit(train_numeric_columns)"
      ],
      "metadata": {
        "colab": {
          "base_uri": "https://localhost:8080/",
          "height": 75
        },
        "id": "Njc1LIzeDWfG",
        "outputId": "9c71a89c-d344-4905-89ff-35b92da7c3d2"
      },
      "execution_count": 29,
      "outputs": [
        {
          "output_type": "execute_result",
          "data": {
            "text/plain": [
              "StandardScaler()"
            ],
            "text/html": [
              "<style>#sk-container-id-1 {color: black;background-color: white;}#sk-container-id-1 pre{padding: 0;}#sk-container-id-1 div.sk-toggleable {background-color: white;}#sk-container-id-1 label.sk-toggleable__label {cursor: pointer;display: block;width: 100%;margin-bottom: 0;padding: 0.3em;box-sizing: border-box;text-align: center;}#sk-container-id-1 label.sk-toggleable__label-arrow:before {content: \"▸\";float: left;margin-right: 0.25em;color: #696969;}#sk-container-id-1 label.sk-toggleable__label-arrow:hover:before {color: black;}#sk-container-id-1 div.sk-estimator:hover label.sk-toggleable__label-arrow:before {color: black;}#sk-container-id-1 div.sk-toggleable__content {max-height: 0;max-width: 0;overflow: hidden;text-align: left;background-color: #f0f8ff;}#sk-container-id-1 div.sk-toggleable__content pre {margin: 0.2em;color: black;border-radius: 0.25em;background-color: #f0f8ff;}#sk-container-id-1 input.sk-toggleable__control:checked~div.sk-toggleable__content {max-height: 200px;max-width: 100%;overflow: auto;}#sk-container-id-1 input.sk-toggleable__control:checked~label.sk-toggleable__label-arrow:before {content: \"▾\";}#sk-container-id-1 div.sk-estimator input.sk-toggleable__control:checked~label.sk-toggleable__label {background-color: #d4ebff;}#sk-container-id-1 div.sk-label input.sk-toggleable__control:checked~label.sk-toggleable__label {background-color: #d4ebff;}#sk-container-id-1 input.sk-hidden--visually {border: 0;clip: rect(1px 1px 1px 1px);clip: rect(1px, 1px, 1px, 1px);height: 1px;margin: -1px;overflow: hidden;padding: 0;position: absolute;width: 1px;}#sk-container-id-1 div.sk-estimator {font-family: monospace;background-color: #f0f8ff;border: 1px dotted black;border-radius: 0.25em;box-sizing: border-box;margin-bottom: 0.5em;}#sk-container-id-1 div.sk-estimator:hover {background-color: #d4ebff;}#sk-container-id-1 div.sk-parallel-item::after {content: \"\";width: 100%;border-bottom: 1px solid gray;flex-grow: 1;}#sk-container-id-1 div.sk-label:hover label.sk-toggleable__label {background-color: #d4ebff;}#sk-container-id-1 div.sk-serial::before {content: \"\";position: absolute;border-left: 1px solid gray;box-sizing: border-box;top: 0;bottom: 0;left: 50%;z-index: 0;}#sk-container-id-1 div.sk-serial {display: flex;flex-direction: column;align-items: center;background-color: white;padding-right: 0.2em;padding-left: 0.2em;position: relative;}#sk-container-id-1 div.sk-item {position: relative;z-index: 1;}#sk-container-id-1 div.sk-parallel {display: flex;align-items: stretch;justify-content: center;background-color: white;position: relative;}#sk-container-id-1 div.sk-item::before, #sk-container-id-1 div.sk-parallel-item::before {content: \"\";position: absolute;border-left: 1px solid gray;box-sizing: border-box;top: 0;bottom: 0;left: 50%;z-index: -1;}#sk-container-id-1 div.sk-parallel-item {display: flex;flex-direction: column;z-index: 1;position: relative;background-color: white;}#sk-container-id-1 div.sk-parallel-item:first-child::after {align-self: flex-end;width: 50%;}#sk-container-id-1 div.sk-parallel-item:last-child::after {align-self: flex-start;width: 50%;}#sk-container-id-1 div.sk-parallel-item:only-child::after {width: 0;}#sk-container-id-1 div.sk-dashed-wrapped {border: 1px dashed gray;margin: 0 0.4em 0.5em 0.4em;box-sizing: border-box;padding-bottom: 0.4em;background-color: white;}#sk-container-id-1 div.sk-label label {font-family: monospace;font-weight: bold;display: inline-block;line-height: 1.2em;}#sk-container-id-1 div.sk-label-container {text-align: center;}#sk-container-id-1 div.sk-container {/* jupyter's `normalize.less` sets `[hidden] { display: none; }` but bootstrap.min.css set `[hidden] { display: none !important; }` so we also need the `!important` here to be able to override the default hidden behavior on the sphinx rendered scikit-learn.org. See: https://github.com/scikit-learn/scikit-learn/issues/21755 */display: inline-block !important;position: relative;}#sk-container-id-1 div.sk-text-repr-fallback {display: none;}</style><div id=\"sk-container-id-1\" class=\"sk-top-container\"><div class=\"sk-text-repr-fallback\"><pre>StandardScaler()</pre><b>In a Jupyter environment, please rerun this cell to show the HTML representation or trust the notebook. <br />On GitHub, the HTML representation is unable to render, please try loading this page with nbviewer.org.</b></div><div class=\"sk-container\" hidden><div class=\"sk-item\"><div class=\"sk-estimator sk-toggleable\"><input class=\"sk-toggleable__control sk-hidden--visually\" id=\"sk-estimator-id-1\" type=\"checkbox\" checked><label for=\"sk-estimator-id-1\" class=\"sk-toggleable__label sk-toggleable__label-arrow\">StandardScaler</label><div class=\"sk-toggleable__content\"><pre>StandardScaler()</pre></div></div></div></div></div>"
            ]
          },
          "metadata": {},
          "execution_count": 29
        }
      ]
    },
    {
      "cell_type": "code",
      "source": [
        "scaled_train = scaler.transform(train_numeric_columns)"
      ],
      "metadata": {
        "id": "j71nhzleDewy"
      },
      "execution_count": 30,
      "outputs": []
    },
    {
      "cell_type": "code",
      "source": [],
      "metadata": {
        "id": "dh56kvSYDnJO"
      },
      "execution_count": 31,
      "outputs": []
    },
    {
      "cell_type": "code",
      "source": [
        "isolation_forest = IsolationForest(\n",
        "    n_estimators=100,\n",
        "    max_samples='auto',\n",
        "    contamination=0.5,\n",
        "    random_state=42\n",
        ")"
      ],
      "metadata": {
        "id": "Yor5wVc9DrHs"
      },
      "execution_count": 32,
      "outputs": []
    },
    {
      "cell_type": "code",
      "source": [
        "isolation_forest.fit(scaled_train)"
      ],
      "metadata": {
        "colab": {
          "base_uri": "https://localhost:8080/",
          "height": 75
        },
        "id": "qZjh50NrDvUZ",
        "outputId": "7c152f78-5639-44b9-a3cb-3056040ab0c0"
      },
      "execution_count": 33,
      "outputs": [
        {
          "output_type": "execute_result",
          "data": {
            "text/plain": [
              "IsolationForest(contamination=0.5, random_state=42)"
            ],
            "text/html": [
              "<style>#sk-container-id-2 {color: black;background-color: white;}#sk-container-id-2 pre{padding: 0;}#sk-container-id-2 div.sk-toggleable {background-color: white;}#sk-container-id-2 label.sk-toggleable__label {cursor: pointer;display: block;width: 100%;margin-bottom: 0;padding: 0.3em;box-sizing: border-box;text-align: center;}#sk-container-id-2 label.sk-toggleable__label-arrow:before {content: \"▸\";float: left;margin-right: 0.25em;color: #696969;}#sk-container-id-2 label.sk-toggleable__label-arrow:hover:before {color: black;}#sk-container-id-2 div.sk-estimator:hover label.sk-toggleable__label-arrow:before {color: black;}#sk-container-id-2 div.sk-toggleable__content {max-height: 0;max-width: 0;overflow: hidden;text-align: left;background-color: #f0f8ff;}#sk-container-id-2 div.sk-toggleable__content pre {margin: 0.2em;color: black;border-radius: 0.25em;background-color: #f0f8ff;}#sk-container-id-2 input.sk-toggleable__control:checked~div.sk-toggleable__content {max-height: 200px;max-width: 100%;overflow: auto;}#sk-container-id-2 input.sk-toggleable__control:checked~label.sk-toggleable__label-arrow:before {content: \"▾\";}#sk-container-id-2 div.sk-estimator input.sk-toggleable__control:checked~label.sk-toggleable__label {background-color: #d4ebff;}#sk-container-id-2 div.sk-label input.sk-toggleable__control:checked~label.sk-toggleable__label {background-color: #d4ebff;}#sk-container-id-2 input.sk-hidden--visually {border: 0;clip: rect(1px 1px 1px 1px);clip: rect(1px, 1px, 1px, 1px);height: 1px;margin: -1px;overflow: hidden;padding: 0;position: absolute;width: 1px;}#sk-container-id-2 div.sk-estimator {font-family: monospace;background-color: #f0f8ff;border: 1px dotted black;border-radius: 0.25em;box-sizing: border-box;margin-bottom: 0.5em;}#sk-container-id-2 div.sk-estimator:hover {background-color: #d4ebff;}#sk-container-id-2 div.sk-parallel-item::after {content: \"\";width: 100%;border-bottom: 1px solid gray;flex-grow: 1;}#sk-container-id-2 div.sk-label:hover label.sk-toggleable__label {background-color: #d4ebff;}#sk-container-id-2 div.sk-serial::before {content: \"\";position: absolute;border-left: 1px solid gray;box-sizing: border-box;top: 0;bottom: 0;left: 50%;z-index: 0;}#sk-container-id-2 div.sk-serial {display: flex;flex-direction: column;align-items: center;background-color: white;padding-right: 0.2em;padding-left: 0.2em;position: relative;}#sk-container-id-2 div.sk-item {position: relative;z-index: 1;}#sk-container-id-2 div.sk-parallel {display: flex;align-items: stretch;justify-content: center;background-color: white;position: relative;}#sk-container-id-2 div.sk-item::before, #sk-container-id-2 div.sk-parallel-item::before {content: \"\";position: absolute;border-left: 1px solid gray;box-sizing: border-box;top: 0;bottom: 0;left: 50%;z-index: -1;}#sk-container-id-2 div.sk-parallel-item {display: flex;flex-direction: column;z-index: 1;position: relative;background-color: white;}#sk-container-id-2 div.sk-parallel-item:first-child::after {align-self: flex-end;width: 50%;}#sk-container-id-2 div.sk-parallel-item:last-child::after {align-self: flex-start;width: 50%;}#sk-container-id-2 div.sk-parallel-item:only-child::after {width: 0;}#sk-container-id-2 div.sk-dashed-wrapped {border: 1px dashed gray;margin: 0 0.4em 0.5em 0.4em;box-sizing: border-box;padding-bottom: 0.4em;background-color: white;}#sk-container-id-2 div.sk-label label {font-family: monospace;font-weight: bold;display: inline-block;line-height: 1.2em;}#sk-container-id-2 div.sk-label-container {text-align: center;}#sk-container-id-2 div.sk-container {/* jupyter's `normalize.less` sets `[hidden] { display: none; }` but bootstrap.min.css set `[hidden] { display: none !important; }` so we also need the `!important` here to be able to override the default hidden behavior on the sphinx rendered scikit-learn.org. See: https://github.com/scikit-learn/scikit-learn/issues/21755 */display: inline-block !important;position: relative;}#sk-container-id-2 div.sk-text-repr-fallback {display: none;}</style><div id=\"sk-container-id-2\" class=\"sk-top-container\"><div class=\"sk-text-repr-fallback\"><pre>IsolationForest(contamination=0.5, random_state=42)</pre><b>In a Jupyter environment, please rerun this cell to show the HTML representation or trust the notebook. <br />On GitHub, the HTML representation is unable to render, please try loading this page with nbviewer.org.</b></div><div class=\"sk-container\" hidden><div class=\"sk-item\"><div class=\"sk-estimator sk-toggleable\"><input class=\"sk-toggleable__control sk-hidden--visually\" id=\"sk-estimator-id-2\" type=\"checkbox\" checked><label for=\"sk-estimator-id-2\" class=\"sk-toggleable__label sk-toggleable__label-arrow\">IsolationForest</label><div class=\"sk-toggleable__content\"><pre>IsolationForest(contamination=0.5, random_state=42)</pre></div></div></div></div></div>"
            ]
          },
          "metadata": {},
          "execution_count": 33
        }
      ]
    },
    {
      "cell_type": "code",
      "source": [
        "test_numeric_columns = test.select_dtypes(include=['number'])\n",
        "test_numeric_columns.drop(['Transaction ID','User ID','Merchant ID','Fraudulent Flag'],axis=1,inplace=True)"
      ],
      "metadata": {
        "id": "bYk4SayvD0q6"
      },
      "execution_count": 34,
      "outputs": []
    },
    {
      "cell_type": "code",
      "source": [
        "y_test = test['Fraudulent Flag']"
      ],
      "metadata": {
        "id": "Apx5t52-GF8t"
      },
      "execution_count": 42,
      "outputs": []
    },
    {
      "cell_type": "code",
      "source": [
        "scaled_test = scaler.transform(test_numeric_columns)"
      ],
      "metadata": {
        "id": "xa7hjOQ5D_6U"
      },
      "execution_count": 35,
      "outputs": []
    },
    {
      "cell_type": "code",
      "source": [
        "y_pred = isolation_forest.predict(scaled_test)"
      ],
      "metadata": {
        "id": "iL15YtV1EHFk"
      },
      "execution_count": 36,
      "outputs": []
    },
    {
      "cell_type": "code",
      "source": [
        "y_pred"
      ],
      "metadata": {
        "colab": {
          "base_uri": "https://localhost:8080/"
        },
        "id": "Bybu_mw3EM2l",
        "outputId": "05d48aa9-5171-47f3-d90b-ac7ed7e33dcf"
      },
      "execution_count": 37,
      "outputs": [
        {
          "output_type": "execute_result",
          "data": {
            "text/plain": [
              "array([-1, -1,  1, ...,  1, -1,  1])"
            ]
          },
          "metadata": {},
          "execution_count": 37
        }
      ]
    },
    {
      "cell_type": "code",
      "source": [
        "y_pred_conv = [0 if i == 1 else 1 for i in y_pred]"
      ],
      "metadata": {
        "id": "kPO37KFdEPW1"
      },
      "execution_count": 38,
      "outputs": []
    },
    {
      "cell_type": "code",
      "source": [
        "print(classification_report(y_test, y_pred_conv))"
      ],
      "metadata": {
        "colab": {
          "base_uri": "https://localhost:8080/"
        },
        "id": "jLIaLK53FQFw",
        "outputId": "fec2abc0-5157-4d63-eafd-6a0e72d129d8"
      },
      "execution_count": 43,
      "outputs": [
        {
          "output_type": "stream",
          "name": "stdout",
          "text": [
            "              precision    recall  f1-score   support\n",
            "\n",
            "           0       0.50      0.50      0.50     90112\n",
            "           1       0.50      0.50      0.50     89888\n",
            "\n",
            "    accuracy                           0.50    180000\n",
            "   macro avg       0.50      0.50      0.50    180000\n",
            "weighted avg       0.50      0.50      0.50    180000\n",
            "\n"
          ]
        }
      ]
    },
    {
      "cell_type": "code",
      "source": [
        "cm = confusion_matrix(y_test, y_pred_conv)\n",
        "\n",
        "# Create a heatmap of the confusion matrix\n",
        "sns.heatmap(cm, annot=True, fmt='d', cmap='Blues')\n",
        "plt.xlabel('Predicted Labels')\n",
        "plt.ylabel('True Labels')\n",
        "plt.title('Confusion Matrix')\n",
        "plt.show()"
      ],
      "metadata": {
        "colab": {
          "base_uri": "https://localhost:8080/",
          "height": 472
        },
        "id": "SIqPvCqwGM9r",
        "outputId": "72b20c7f-aa62-4ae3-cb0d-eff8ee10cb1c"
      },
      "execution_count": 49,
      "outputs": [
        {
          "output_type": "display_data",
          "data": {
            "text/plain": [
              "<Figure size 640x480 with 2 Axes>"
            ],
            "image/png": "[encoded data removed]"
          },
          "metadata": {}
        }
      ]
    },
    {
      "cell_type": "markdown",
      "source": [
        "## working with the sampled data:"
      ],
      "metadata": {
        "id": "WbHI_z1hsMUG"
      }
    },
    {
      "cell_type": "code",
      "source": [
        "\n",
        "df = pd.read_csv(\"/content/drive/MyDrive/sampled_dfa23_data.csv\")"
      ],
      "metadata": {
        "id": "RcfUW2Z9llJ_"
      },
      "execution_count": 4,
      "outputs": []
    },
    {
      "cell_type": "code",
      "source": [
        "# splitting into train & test set in other to avoid any form of data leakage\n",
        "train , test = train_test_split(df, test_size = 0.3, stratify=df['Fraudulent Flag'])"
      ],
      "metadata": {
        "id": "qmk24x2-nNYI"
      },
      "execution_count": 5,
      "outputs": []
    },
    {
      "cell_type": "code",
      "source": [
        "train.reset_index(drop=True, inplace=True)\n",
        "test.reset_index(drop=True, inplace=True)\n"
      ],
      "metadata": {
        "id": "fGRKIMqTvd7a"
      },
      "execution_count": 7,
      "outputs": []
    },
    {
      "cell_type": "code",
      "source": [
        "train.head()"
      ],
      "metadata": {
        "colab": {
          "base_uri": "https://localhost:8080/",
          "height": 382
        },
        "id": "SN9CVbGZsKrH",
        "outputId": "f007757e-236c-4e56-a26f-06ccc48137e3"
      },
      "execution_count": 35,
      "outputs": [
        {
          "output_type": "execute_result",
          "data": {
            "text/plain": [
              "   Transaction ID  User ID  Transaction Amount Transaction Date and Time  \\\n",
              "0        40100761     3216              759.18       2022-01-26 01:45:35   \n",
              "1        97854047     5888              794.17       2021-05-08 22:40:37   \n",
              "2        63524171     2880              435.22       2021-05-22 04:50:41   \n",
              "3        31920731     5614              817.76       2021-09-25 11:37:43   \n",
              "4        15886445     8508              599.63       2023-06-14 05:43:04   \n",
              "\n",
              "   Merchant ID Payment Method Country Code  Transaction Type  \\\n",
              "0         1973          Venmo          ITA    Service Charge   \n",
              "1         8337   Prepaid Card          POL           Invoice   \n",
              "2         4499        Bitcoin          ESP  Registration Fee   \n",
              "3         8082          Venmo          BEL           Auction   \n",
              "4         1934         Stripe          FRA          Recharge   \n",
              "\n",
              "        Device Type      IP Address Browser Type Operating System  \\\n",
              "0          E-Reader   177.68.61.170         Silk            macOS   \n",
              "1   Smart Appliance   145.88.15.139    Pale Moon             tvOS   \n",
              "2     Cash Register    64.2.229.126      Vivaldi      Sailfish OS   \n",
              "3        IoT Device  233.29.172.225       ELinks            Linux   \n",
              "4  Smart Thermostat   36.13.185.173      Surfraw          FreeBSD   \n",
              "\n",
              "         Merchant Category  User Age User Occupation  User Income  \\\n",
              "0              Real Estate        29         Teacher     62961.65   \n",
              "1  Industrial & Scientific        43          Doctor     61826.86   \n",
              "2        Gifts & Souvenirs        55     Electrician      3020.04   \n",
              "3            Luxury Brands        47     Electrician     32460.10   \n",
              "4        Vintage & Antique        72         Plumber      8755.02   \n",
              "\n",
              "         User Gender User Account Status  Transaction Status  \\\n",
              "0  Prefer Not to Say            Verified     Pending Payment   \n",
              "1              Other               Guest   Held for Security   \n",
              "2               Male            Inactive  Partially Approved   \n",
              "3         Non-Binary                 VIP           Completed   \n",
              "4            Agender              Closed              Posted   \n",
              "\n",
              "   Location Distance  Time Taken for Transaction Transaction Time of Day  \\\n",
              "0              77.44                       19.54               Nighttime   \n",
              "1              17.67                       44.41                 Evening   \n",
              "2              93.48                       29.14                 Evening   \n",
              "3              92.88                       12.16                 Evening   \n",
              "4               3.95                       26.33               Nighttime   \n",
              "\n",
              "   User's Transaction History  Merchant's Reputation Score  \\\n",
              "0                          75                         1.70   \n",
              "1                          31                         1.75   \n",
              "2                          21                         2.69   \n",
              "3                          89                         3.83   \n",
              "4                          32                         4.38   \n",
              "\n",
              "  User's Device Location Transaction Currency Transaction Purpose  \\\n",
              "0                Vietnam                  KES     Invoice Payment   \n",
              "1                 Canada                  AED          Settlement   \n",
              "2            Switzerland                  SAR     Invoice Payment   \n",
              "3              Argentina                  ARS          Settlement   \n",
              "4            Switzerland                  TRY         Tax Payment   \n",
              "\n",
              "   User's Credit Score User's Email Domain  Merchant's Business Age  \\\n",
              "0                  839          yandex.com                        5   \n",
              "1                  440        tutanota.com                        5   \n",
              "2                  588          icloud.com                       15   \n",
              "3                  612         yahoo.co.uk                        3   \n",
              "4                  697       outlook.co.uk                        1   \n",
              "\n",
              "  Transaction Authentication Method  Fraudulent Flag  \n",
              "0   Transaction Confirmation Number                1  \n",
              "1                 Voice Recognition                1  \n",
              "2                    Hardware Token                1  \n",
              "3                    Biometric Card                0  \n",
              "4         Mobile Phone Verification                0  "
            ],
            "text/html": [
              "\n",
              "  <div id=\"df-98a60107-33e0-46a9-b833-7a58301530dc\" class=\"colab-df-container\">\n",
              "    <div>\n",
              "<style scoped>\n",
              "    .dataframe tbody tr th:only-of-type {\n",
              "        vertical-align: middle;\n",
              "    }\n",
              "\n",
              "    .dataframe tbody tr th {\n",
              "        vertical-align: top;\n",
              "    }\n",
              "\n",
              "    .dataframe thead th {\n",
              "        text-align: right;\n",
              "    }\n",
              "</style>\n",
              "<table border=\"1\" class=\"dataframe\">\n",
              "  <thead>\n",
              "    <tr style=\"text-align: right;\">\n",
              "      <th></th>\n",
              "      <th>Transaction ID</th>\n",
              "      <th>User ID</th>\n",
              "      <th>Transaction Amount</th>\n",
              "      <th>Transaction Date and Time</th>\n",
              "      <th>Merchant ID</th>\n",
              "      <th>Payment Method</th>\n",
              "      <th>Country Code</th>\n",
              "      <th>Transaction Type</th>\n",
              "      <th>Device Type</th>\n",
              "      <th>IP Address</th>\n",
              "      <th>Browser Type</th>\n",
              "      <th>Operating System</th>\n",
              "      <th>Merchant Category</th>\n",
              "      <th>User Age</th>\n",
              "      <th>User Occupation</th>\n",
              "      <th>User Income</th>\n",
              "      <th>User Gender</th>\n",
              "      <th>User Account Status</th>\n",
              "      <th>Transaction Status</th>\n",
              "      <th>Location Distance</th>\n",
              "      <th>Time Taken for Transaction</th>\n",
              "      <th>Transaction Time of Day</th>\n",
              "      <th>User's Transaction History</th>\n",
              "      <th>Merchant's Reputation Score</th>\n",
              "      <th>User's Device Location</th>\n",
              "      <th>Transaction Currency</th>\n",
              "      <th>Transaction Purpose</th>\n",
              "      <th>User's Credit Score</th>\n",
              "      <th>User's Email Domain</th>\n",
              "      <th>Merchant's Business Age</th>\n",
              "      <th>Transaction Authentication Method</th>\n",
              "      <th>Fraudulent Flag</th>\n",
              "    </tr>\n",
              "  </thead>\n",
              "  <tbody>\n",
              "    <tr>\n",
              "      <th>0</th>\n",
              "      <td>40100761</td>\n",
              "      <td>3216</td>\n",
              "      <td>759.18</td>\n",
              "      <td>2022-01-26 01:45:35</td>\n",
              "      <td>1973</td>\n",
              "      <td>Venmo</td>\n",
              "      <td>ITA</td>\n",
              "      <td>Service Charge</td>\n",
              "      <td>E-Reader</td>\n",
              "      <td>177.68.61.170</td>\n",
              "      <td>Silk</td>\n",
              "      <td>macOS</td>\n",
              "      <td>Real Estate</td>\n",
              "      <td>29</td>\n",
              "      <td>Teacher</td>\n",
              "      <td>62961.65</td>\n",
              "      <td>Prefer Not to Say</td>\n",
              "      <td>Verified</td>\n",
              "      <td>Pending Payment</td>\n",
              "      <td>77.44</td>\n",
              "      <td>19.54</td>\n",
              "      <td>Nighttime</td>\n",
              "      <td>75</td>\n",
              "      <td>1.70</td>\n",
              "      <td>Vietnam</td>\n",
              "      <td>KES</td>\n",
              "      <td>Invoice Payment</td>\n",
              "      <td>839</td>\n",
              "      <td>yandex.com</td>\n",
              "      <td>5</td>\n",
              "      <td>Transaction Confirmation Number</td>\n",
              "      <td>1</td>\n",
              "    </tr>\n",
              "    <tr>\n",
              "      <th>1</th>\n",
              "      <td>97854047</td>\n",
              "      <td>5888</td>\n",
              "      <td>794.17</td>\n",
              "      <td>2021-05-08 22:40:37</td>\n",
              "      <td>8337</td>\n",
              "      <td>Prepaid Card</td>\n",
              "      <td>POL</td>\n",
              "      <td>Invoice</td>\n",
              "      <td>Smart Appliance</td>\n",
              "      <td>145.88.15.139</td>\n",
              "      <td>Pale Moon</td>\n",
              "      <td>tvOS</td>\n",
              "      <td>Industrial &amp; Scientific</td>\n",
              "      <td>43</td>\n",
              "      <td>Doctor</td>\n",
              "      <td>61826.86</td>\n",
              "      <td>Other</td>\n",
              "      <td>Guest</td>\n",
              "      <td>Held for Security</td>\n",
              "      <td>17.67</td>\n",
              "      <td>44.41</td>\n",
              "      <td>Evening</td>\n",
              "      <td>31</td>\n",
              "      <td>1.75</td>\n",
              "      <td>Canada</td>\n",
              "      <td>AED</td>\n",
              "      <td>Settlement</td>\n",
              "      <td>440</td>\n",
              "      <td>tutanota.com</td>\n",
              "      <td>5</td>\n",
              "      <td>Voice Recognition</td>\n",
              "      <td>1</td>\n",
              "    </tr>\n",
              "    <tr>\n",
              "      <th>2</th>\n",
              "      <td>63524171</td>\n",
              "      <td>2880</td>\n",
              "      <td>435.22</td>\n",
              "      <td>2021-05-22 04:50:41</td>\n",
              "      <td>4499</td>\n",
              "      <td>Bitcoin</td>\n",
              "      <td>ESP</td>\n",
              "      <td>Registration Fee</td>\n",
              "      <td>Cash Register</td>\n",
              "      <td>64.2.229.126</td>\n",
              "      <td>Vivaldi</td>\n",
              "      <td>Sailfish OS</td>\n",
              "      <td>Gifts &amp; Souvenirs</td>\n",
              "      <td>55</td>\n",
              "      <td>Electrician</td>\n",
              "      <td>3020.04</td>\n",
              "      <td>Male</td>\n",
              "      <td>Inactive</td>\n",
              "      <td>Partially Approved</td>\n",
              "      <td>93.48</td>\n",
              "      <td>29.14</td>\n",
              "      <td>Evening</td>\n",
              "      <td>21</td>\n",
              "      <td>2.69</td>\n",
              "      <td>Switzerland</td>\n",
              "      <td>SAR</td>\n",
              "      <td>Invoice Payment</td>\n",
              "      <td>588</td>\n",
              "      <td>icloud.com</td>\n",
              "      <td>15</td>\n",
              "      <td>Hardware Token</td>\n",
              "      <td>1</td>\n",
              "    </tr>\n",
              "    <tr>\n",
              "      <th>3</th>\n",
              "      <td>31920731</td>\n",
              "      <td>5614</td>\n",
              "      <td>817.76</td>\n",
              "      <td>2021-09-25 11:37:43</td>\n",
              "      <td>8082</td>\n",
              "      <td>Venmo</td>\n",
              "      <td>BEL</td>\n",
              "      <td>Auction</td>\n",
              "      <td>IoT Device</td>\n",
              "      <td>233.29.172.225</td>\n",
              "      <td>ELinks</td>\n",
              "      <td>Linux</td>\n",
              "      <td>Luxury Brands</td>\n",
              "      <td>47</td>\n",
              "      <td>Electrician</td>\n",
              "      <td>32460.10</td>\n",
              "      <td>Non-Binary</td>\n",
              "      <td>VIP</td>\n",
              "      <td>Completed</td>\n",
              "      <td>92.88</td>\n",
              "      <td>12.16</td>\n",
              "      <td>Evening</td>\n",
              "      <td>89</td>\n",
              "      <td>3.83</td>\n",
              "      <td>Argentina</td>\n",
              "      <td>ARS</td>\n",
              "      <td>Settlement</td>\n",
              "      <td>612</td>\n",
              "      <td>yahoo.co.uk</td>\n",
              "      <td>3</td>\n",
              "      <td>Biometric Card</td>\n",
              "      <td>0</td>\n",
              "    </tr>\n",
              "    <tr>\n",
              "      <th>4</th>\n",
              "      <td>15886445</td>\n",
              "      <td>8508</td>\n",
              "      <td>599.63</td>\n",
              "      <td>2023-06-14 05:43:04</td>\n",
              "      <td>1934</td>\n",
              "      <td>Stripe</td>\n",
              "      <td>FRA</td>\n",
              "      <td>Recharge</td>\n",
              "      <td>Smart Thermostat</td>\n",
              "      <td>36.13.185.173</td>\n",
              "      <td>Surfraw</td>\n",
              "      <td>FreeBSD</td>\n",
              "      <td>Vintage &amp; Antique</td>\n",
              "      <td>72</td>\n",
              "      <td>Plumber</td>\n",
              "      <td>8755.02</td>\n",
              "      <td>Agender</td>\n",
              "      <td>Closed</td>\n",
              "      <td>Posted</td>\n",
              "      <td>3.95</td>\n",
              "      <td>26.33</td>\n",
              "      <td>Nighttime</td>\n",
              "      <td>32</td>\n",
              "      <td>4.38</td>\n",
              "      <td>Switzerland</td>\n",
              "      <td>TRY</td>\n",
              "      <td>Tax Payment</td>\n",
              "      <td>697</td>\n",
              "      <td>outlook.co.uk</td>\n",
              "      <td>1</td>\n",
              "      <td>Mobile Phone Verification</td>\n",
              "      <td>0</td>\n",
              "    </tr>\n",
              "  </tbody>\n",
              "</table>\n",
              "</div>\n",
              "    <div class=\"colab-df-buttons\">\n",
              "\n",
              "  <div class=\"colab-df-container\">\n",
              "    <button class=\"colab-df-convert\" onclick=\"convertToInteractive('df-98a60107-33e0-46a9-b833-7a58301530dc')\"\n",
              "            title=\"Convert this dataframe to an interactive table.\"\n",
              "            style=\"display:none;\">\n",
              "\n",
              "  <svg xmlns=\"http://www.w3.org/2000/svg\" height=\"24px\" viewBox=\"0 -960 960 960\">\n",
              "    <path d=\"M120-120v-720h720v720H120Zm60-500h600v-160H180v160Zm220 220h160v-160H400v160Zm0 220h160v-160H400v160ZM180-400h160v-160H180v160Zm440 0h160v-160H620v160ZM180-180h160v-160H180v160Zm440 0h160v-160H620v160Z\"/>\n",
              "  </svg>\n",
              "    </button>\n",
              "\n",
              "  <style>\n",
              "    .colab-df-container {\n",
              "      display:flex;\n",
              "      gap: 12px;\n",
              "    }\n",
              "\n",
              "    .colab-df-convert {\n",
              "      background-color: #E8F0FE;\n",
              "      border: none;\n",
              "      border-radius: 50%;\n",
              "      cursor: pointer;\n",
              "      display: none;\n",
              "      fill: #1967D2;\n",
              "      height: 32px;\n",
              "      padding: 0 0 0 0;\n",
              "      width: 32px;\n",
              "    }\n",
              "\n",
              "    .colab-df-convert:hover {\n",
              "      background-color: #E2EBFA;\n",
              "      box-shadow: 0px 1px 2px rgba(60, 64, 67, 0.3), 0px 1px 3px 1px rgba(60, 64, 67, 0.15);\n",
              "      fill: #174EA6;\n",
              "    }\n",
              "\n",
              "    .colab-df-buttons div {\n",
              "      margin-bottom: 4px;\n",
              "    }\n",
              "\n",
              "    [theme=dark] .colab-df-convert {\n",
              "      background-color: #3B4455;\n",
              "      fill: #D2E3FC;\n",
              "    }\n",
              "\n",
              "    [theme=dark] .colab-df-convert:hover {\n",
              "      background-color: #434B5C;\n",
              "      box-shadow: 0px 1px 3px 1px rgba(0, 0, 0, 0.15);\n",
              "      filter: drop-shadow(0px 1px 2px rgba(0, 0, 0, 0.3));\n",
              "      fill: #FFFFFF;\n",
              "    }\n",
              "  </style>\n",
              "\n",
              "    <script>\n",
              "      const buttonEl =\n",
              "        document.querySelector('#df-98a60107-33e0-46a9-b833-7a58301530dc button.colab-df-convert');\n",
              "      buttonEl.style.display =\n",
              "        google.colab.kernel.accessAllowed ? 'block' : 'none';\n",
              "\n",
              "      async function convertToInteractive(key) {\n",
              "        const element = document.querySelector('#df-98a60107-33e0-46a9-b833-7a58301530dc');\n",
              "        const dataTable =\n",
              "          await google.colab.kernel.invokeFunction('convertToInteractive',\n",
              "                                                    [key], {});\n",
              "        if (!dataTable) return;\n",
              "\n",
              "        const docLinkHtml = 'Like what you see? Visit the ' +\n",
              "          '<a target=\"_blank\" href=https://colab.research.google.com/notebooks/data_table.ipynb>data table notebook</a>'\n",
              "          + ' to learn more about interactive tables.';\n",
              "        element.innerHTML = '';\n",
              "        dataTable['output_type'] = 'display_data';\n",
              "        await google.colab.output.renderOutput(dataTable, element);\n",
              "        const docLink = document.createElement('div');\n",
              "        docLink.innerHTML = docLinkHtml;\n",
              "        element.appendChild(docLink);\n",
              "      }\n",
              "    </script>\n",
              "  </div>\n",
              "\n",
              "\n",
              "<div id=\"df-aff03e11-eccd-4fde-8d19-0bc3b970ff59\">\n",
              "  <button class=\"colab-df-quickchart\" onclick=\"quickchart('df-aff03e11-eccd-4fde-8d19-0bc3b970ff59')\"\n",
              "            title=\"Suggest charts.\"\n",
              "            style=\"display:none;\">\n",
              "\n",
              "<svg xmlns=\"http://www.w3.org/2000/svg\" height=\"24px\"viewBox=\"0 0 24 24\"\n",
              "     width=\"24px\">\n",
              "    <g>\n",
              "        <path d=\"M19 3H5c-1.1 0-2 .9-2 2v14c0 1.1.9 2 2 2h14c1.1 0 2-.9 2-2V5c0-1.1-.9-2-2-2zM9 17H7v-7h2v7zm4 0h-2V7h2v10zm4 0h-2v-4h2v4z\"/>\n",
              "    </g>\n",
              "</svg>\n",
              "  </button>\n",
              "\n",
              "<style>\n",
              "  .colab-df-quickchart {\n",
              "      --bg-color: #E8F0FE;\n",
              "      --fill-color: #1967D2;\n",
              "      --hover-bg-color: #E2EBFA;\n",
              "      --hover-fill-color: #174EA6;\n",
              "      --disabled-fill-color: #AAA;\n",
              "      --disabled-bg-color: #DDD;\n",
              "  }\n",
              "\n",
              "  [theme=dark] .colab-df-quickchart {\n",
              "      --bg-color: #3B4455;\n",
              "      --fill-color: #D2E3FC;\n",
              "      --hover-bg-color: #434B5C;\n",
              "      --hover-fill-color: #FFFFFF;\n",
              "      --disabled-bg-color: #3B4455;\n",
              "      --disabled-fill-color: #666;\n",
              "  }\n",
              "\n",
              "  .colab-df-quickchart {\n",
              "    background-color: var(--bg-color);\n",
              "    border: none;\n",
              "    border-radius: 50%;\n",
              "    cursor: pointer;\n",
              "    display: none;\n",
              "    fill: var(--fill-color);\n",
              "    height: 32px;\n",
              "    padding: 0;\n",
              "    width: 32px;\n",
              "  }\n",
              "\n",
              "  .colab-df-quickchart:hover {\n",
              "    background-color: var(--hover-bg-color);\n",
              "    box-shadow: 0 1px 2px rgba(60, 64, 67, 0.3), 0 1px 3px 1px rgba(60, 64, 67, 0.15);\n",
              "    fill: var(--button-hover-fill-color);\n",
              "  }\n",
              "\n",
              "  .colab-df-quickchart-complete:disabled,\n",
              "  .colab-df-quickchart-complete:disabled:hover {\n",
              "    background-color: var(--disabled-bg-color);\n",
              "    fill: var(--disabled-fill-color);\n",
              "    box-shadow: none;\n",
              "  }\n",
              "\n",
              "  .colab-df-spinner {\n",
              "    border: 2px solid var(--fill-color);\n",
              "    border-color: transparent;\n",
              "    border-bottom-color: var(--fill-color);\n",
              "    animation:\n",
              "      spin 1s steps(1) infinite;\n",
              "  }\n",
              "\n",
              "  @keyframes spin {\n",
              "    0% {\n",
              "      border-color: transparent;\n",
              "      border-bottom-color: var(--fill-color);\n",
              "      border-left-color: var(--fill-color);\n",
              "    }\n",
              "    20% {\n",
              "      border-color: transparent;\n",
              "      border-left-color: var(--fill-color);\n",
              "      border-top-color: var(--fill-color);\n",
              "    }\n",
              "    30% {\n",
              "      border-color: transparent;\n",
              "      border-left-color: var(--fill-color);\n",
              "      border-top-color: var(--fill-color);\n",
              "      border-right-color: var(--fill-color);\n",
              "    }\n",
              "    40% {\n",
              "      border-color: transparent;\n",
              "      border-right-color: var(--fill-color);\n",
              "      border-top-color: var(--fill-color);\n",
              "    }\n",
              "    60% {\n",
              "      border-color: transparent;\n",
              "      border-right-color: var(--fill-color);\n",
              "    }\n",
              "    80% {\n",
              "      border-color: transparent;\n",
              "      border-right-color: var(--fill-color);\n",
              "      border-bottom-color: var(--fill-color);\n",
              "    }\n",
              "    90% {\n",
              "      border-color: transparent;\n",
              "      border-bottom-color: var(--fill-color);\n",
              "    }\n",
              "  }\n",
              "</style>\n",
              "\n",
              "  <script>\n",
              "    async function quickchart(key) {\n",
              "      const quickchartButtonEl =\n",
              "        document.querySelector('#' + key + ' button');\n",
              "      quickchartButtonEl.disabled = true;  // To prevent multiple clicks.\n",
              "      quickchartButtonEl.classList.add('colab-df-spinner');\n",
              "      try {\n",
              "        const charts = await google.colab.kernel.invokeFunction(\n",
              "            'suggestCharts', [key], {});\n",
              "      } catch (error) {\n",
              "        console.error('Error during call to suggestCharts:', error);\n",
              "      }\n",
              "      quickchartButtonEl.classList.remove('colab-df-spinner');\n",
              "      quickchartButtonEl.classList.add('colab-df-quickchart-complete');\n",
              "    }\n",
              "    (() => {\n",
              "      let quickchartButtonEl =\n",
              "        document.querySelector('#df-aff03e11-eccd-4fde-8d19-0bc3b970ff59 button');\n",
              "      quickchartButtonEl.style.display =\n",
              "        google.colab.kernel.accessAllowed ? 'block' : 'none';\n",
              "    })();\n",
              "  </script>\n",
              "</div>\n",
              "    </div>\n",
              "  </div>\n"
            ]
          },
          "metadata": {},
          "execution_count": 35
        }
      ]
    },
    {
      "cell_type": "markdown",
      "source": [
        "### Feature Engineering & Data Exploration:"
      ],
      "metadata": {
        "id": "5wCCWijTsq1r"
      }
    },
    {
      "cell_type": "code",
      "source": [
        "train['Transaction Date and Time'] = pd.to_datetime(train['Transaction Date and Time'])\n",
        "test['Transaction Date and Time'] = pd.to_datetime(test['Transaction Date and Time'])\n"
      ],
      "metadata": {
        "id": "1C0mDpH5syZ3"
      },
      "execution_count": 8,
      "outputs": []
    },
    {
      "cell_type": "code",
      "source": [
        "train['day_of_week'] = train['Transaction Date and Time'].dt.strftime('%w')\n",
        "test['day_of_week'] = test['Transaction Date and Time'].dt.strftime('%w')\n"
      ],
      "metadata": {
        "id": "obBaVUYMqfms"
      },
      "execution_count": 9,
      "outputs": []
    },
    {
      "cell_type": "code",
      "source": [
        "train.head()"
      ],
      "metadata": {
        "colab": {
          "base_uri": "https://localhost:8080/",
          "height": 382
        },
        "id": "uNSfmBK8sAGD",
        "outputId": "d753d572-4e35-4633-af13-19ba89eaa9b8"
      },
      "execution_count": 37,
      "outputs": [
        {
          "output_type": "execute_result",
          "data": {
            "text/plain": [
              "   Transaction ID  User ID  Transaction Amount Transaction Date and Time  \\\n",
              "0        40100761     3216              759.18       2022-01-26 01:45:35   \n",
              "1        97854047     5888              794.17       2021-05-08 22:40:37   \n",
              "2        63524171     2880              435.22       2021-05-22 04:50:41   \n",
              "3        31920731     5614              817.76       2021-09-25 11:37:43   \n",
              "4        15886445     8508              599.63       2023-06-14 05:43:04   \n",
              "\n",
              "   Merchant ID Payment Method Country Code  Transaction Type  \\\n",
              "0         1973          Venmo          ITA    Service Charge   \n",
              "1         8337   Prepaid Card          POL           Invoice   \n",
              "2         4499        Bitcoin          ESP  Registration Fee   \n",
              "3         8082          Venmo          BEL           Auction   \n",
              "4         1934         Stripe          FRA          Recharge   \n",
              "\n",
              "        Device Type      IP Address Browser Type Operating System  \\\n",
              "0          E-Reader   177.68.61.170         Silk            macOS   \n",
              "1   Smart Appliance   145.88.15.139    Pale Moon             tvOS   \n",
              "2     Cash Register    64.2.229.126      Vivaldi      Sailfish OS   \n",
              "3        IoT Device  233.29.172.225       ELinks            Linux   \n",
              "4  Smart Thermostat   36.13.185.173      Surfraw          FreeBSD   \n",
              "\n",
              "         Merchant Category  User Age User Occupation  User Income  \\\n",
              "0              Real Estate        29         Teacher     62961.65   \n",
              "1  Industrial & Scientific        43          Doctor     61826.86   \n",
              "2        Gifts & Souvenirs        55     Electrician      3020.04   \n",
              "3            Luxury Brands        47     Electrician     32460.10   \n",
              "4        Vintage & Antique        72         Plumber      8755.02   \n",
              "\n",
              "         User Gender User Account Status  Transaction Status  \\\n",
              "0  Prefer Not to Say            Verified     Pending Payment   \n",
              "1              Other               Guest   Held for Security   \n",
              "2               Male            Inactive  Partially Approved   \n",
              "3         Non-Binary                 VIP           Completed   \n",
              "4            Agender              Closed              Posted   \n",
              "\n",
              "   Location Distance  Time Taken for Transaction Transaction Time of Day  \\\n",
              "0              77.44                       19.54               Nighttime   \n",
              "1              17.67                       44.41                 Evening   \n",
              "2              93.48                       29.14                 Evening   \n",
              "3              92.88                       12.16                 Evening   \n",
              "4               3.95                       26.33               Nighttime   \n",
              "\n",
              "   User's Transaction History  Merchant's Reputation Score  \\\n",
              "0                          75                         1.70   \n",
              "1                          31                         1.75   \n",
              "2                          21                         2.69   \n",
              "3                          89                         3.83   \n",
              "4                          32                         4.38   \n",
              "\n",
              "  User's Device Location Transaction Currency Transaction Purpose  \\\n",
              "0                Vietnam                  KES     Invoice Payment   \n",
              "1                 Canada                  AED          Settlement   \n",
              "2            Switzerland                  SAR     Invoice Payment   \n",
              "3              Argentina                  ARS          Settlement   \n",
              "4            Switzerland                  TRY         Tax Payment   \n",
              "\n",
              "   User's Credit Score User's Email Domain  Merchant's Business Age  \\\n",
              "0                  839          yandex.com                        5   \n",
              "1                  440        tutanota.com                        5   \n",
              "2                  588          icloud.com                       15   \n",
              "3                  612         yahoo.co.uk                        3   \n",
              "4                  697       outlook.co.uk                        1   \n",
              "\n",
              "  Transaction Authentication Method  Fraudulent Flag day_of_week  \n",
              "0   Transaction Confirmation Number                1           3  \n",
              "1                 Voice Recognition                1           6  \n",
              "2                    Hardware Token                1           6  \n",
              "3                    Biometric Card                0           6  \n",
              "4         Mobile Phone Verification                0           3  "
            ],
            "text/html": [
              "\n",
              "  <div id=\"df-b28a87b8-3202-4e77-90cc-12ae5f5c3367\" class=\"colab-df-container\">\n",
              "    <div>\n",
              "<style scoped>\n",
              "    .dataframe tbody tr th:only-of-type {\n",
              "        vertical-align: middle;\n",
              "    }\n",
              "\n",
              "    .dataframe tbody tr th {\n",
              "        vertical-align: top;\n",
              "    }\n",
              "\n",
              "    .dataframe thead th {\n",
              "        text-align: right;\n",
              "    }\n",
              "</style>\n",
              "<table border=\"1\" class=\"dataframe\">\n",
              "  <thead>\n",
              "    <tr style=\"text-align: right;\">\n",
              "      <th></th>\n",
              "      <th>Transaction ID</th>\n",
              "      <th>User ID</th>\n",
              "      <th>Transaction Amount</th>\n",
              "      <th>Transaction Date and Time</th>\n",
              "      <th>Merchant ID</th>\n",
              "      <th>Payment Method</th>\n",
              "      <th>Country Code</th>\n",
              "      <th>Transaction Type</th>\n",
              "      <th>Device Type</th>\n",
              "      <th>IP Address</th>\n",
              "      <th>Browser Type</th>\n",
              "      <th>Operating System</th>\n",
              "      <th>Merchant Category</th>\n",
              "      <th>User Age</th>\n",
              "      <th>User Occupation</th>\n",
              "      <th>User Income</th>\n",
              "      <th>User Gender</th>\n",
              "      <th>User Account Status</th>\n",
              "      <th>Transaction Status</th>\n",
              "      <th>Location Distance</th>\n",
              "      <th>Time Taken for Transaction</th>\n",
              "      <th>Transaction Time of Day</th>\n",
              "      <th>User's Transaction History</th>\n",
              "      <th>Merchant's Reputation Score</th>\n",
              "      <th>User's Device Location</th>\n",
              "      <th>Transaction Currency</th>\n",
              "      <th>Transaction Purpose</th>\n",
              "      <th>User's Credit Score</th>\n",
              "      <th>User's Email Domain</th>\n",
              "      <th>Merchant's Business Age</th>\n",
              "      <th>Transaction Authentication Method</th>\n",
              "      <th>Fraudulent Flag</th>\n",
              "      <th>day_of_week</th>\n",
              "    </tr>\n",
              "  </thead>\n",
              "  <tbody>\n",
              "    <tr>\n",
              "      <th>0</th>\n",
              "      <td>40100761</td>\n",
              "      <td>3216</td>\n",
              "      <td>759.18</td>\n",
              "      <td>2022-01-26 01:45:35</td>\n",
              "      <td>1973</td>\n",
              "      <td>Venmo</td>\n",
              "      <td>ITA</td>\n",
              "      <td>Service Charge</td>\n",
              "      <td>E-Reader</td>\n",
              "      <td>177.68.61.170</td>\n",
              "      <td>Silk</td>\n",
              "      <td>macOS</td>\n",
              "      <td>Real Estate</td>\n",
              "      <td>29</td>\n",
              "      <td>Teacher</td>\n",
              "      <td>62961.65</td>\n",
              "      <td>Prefer Not to Say</td>\n",
              "      <td>Verified</td>\n",
              "      <td>Pending Payment</td>\n",
              "      <td>77.44</td>\n",
              "      <td>19.54</td>\n",
              "      <td>Nighttime</td>\n",
              "      <td>75</td>\n",
              "      <td>1.70</td>\n",
              "      <td>Vietnam</td>\n",
              "      <td>KES</td>\n",
              "      <td>Invoice Payment</td>\n",
              "      <td>839</td>\n",
              "      <td>yandex.com</td>\n",
              "      <td>5</td>\n",
              "      <td>Transaction Confirmation Number</td>\n",
              "      <td>1</td>\n",
              "      <td>3</td>\n",
              "    </tr>\n",
              "    <tr>\n",
              "      <th>1</th>\n",
              "      <td>97854047</td>\n",
              "      <td>5888</td>\n",
              "      <td>794.17</td>\n",
              "      <td>2021-05-08 22:40:37</td>\n",
              "      <td>8337</td>\n",
              "      <td>Prepaid Card</td>\n",
              "      <td>POL</td>\n",
              "      <td>Invoice</td>\n",
              "      <td>Smart Appliance</td>\n",
              "      <td>145.88.15.139</td>\n",
              "      <td>Pale Moon</td>\n",
              "      <td>tvOS</td>\n",
              "      <td>Industrial &amp; Scientific</td>\n",
              "      <td>43</td>\n",
              "      <td>Doctor</td>\n",
              "      <td>61826.86</td>\n",
              "      <td>Other</td>\n",
              "      <td>Guest</td>\n",
              "      <td>Held for Security</td>\n",
              "      <td>17.67</td>\n",
              "      <td>44.41</td>\n",
              "      <td>Evening</td>\n",
              "      <td>31</td>\n",
              "      <td>1.75</td>\n",
              "      <td>Canada</td>\n",
              "      <td>AED</td>\n",
              "      <td>Settlement</td>\n",
              "      <td>440</td>\n",
              "      <td>tutanota.com</td>\n",
              "      <td>5</td>\n",
              "      <td>Voice Recognition</td>\n",
              "      <td>1</td>\n",
              "      <td>6</td>\n",
              "    </tr>\n",
              "    <tr>\n",
              "      <th>2</th>\n",
              "      <td>63524171</td>\n",
              "      <td>2880</td>\n",
              "      <td>435.22</td>\n",
              "      <td>2021-05-22 04:50:41</td>\n",
              "      <td>4499</td>\n",
              "      <td>Bitcoin</td>\n",
              "      <td>ESP</td>\n",
              "      <td>Registration Fee</td>\n",
              "      <td>Cash Register</td>\n",
              "      <td>64.2.229.126</td>\n",
              "      <td>Vivaldi</td>\n",
              "      <td>Sailfish OS</td>\n",
              "      <td>Gifts &amp; Souvenirs</td>\n",
              "      <td>55</td>\n",
              "      <td>Electrician</td>\n",
              "      <td>3020.04</td>\n",
              "      <td>Male</td>\n",
              "      <td>Inactive</td>\n",
              "      <td>Partially Approved</td>\n",
              "      <td>93.48</td>\n",
              "      <td>29.14</td>\n",
              "      <td>Evening</td>\n",
              "      <td>21</td>\n",
              "      <td>2.69</td>\n",
              "      <td>Switzerland</td>\n",
              "      <td>SAR</td>\n",
              "      <td>Invoice Payment</td>\n",
              "      <td>588</td>\n",
              "      <td>icloud.com</td>\n",
              "      <td>15</td>\n",
              "      <td>Hardware Token</td>\n",
              "      <td>1</td>\n",
              "      <td>6</td>\n",
              "    </tr>\n",
              "    <tr>\n",
              "      <th>3</th>\n",
              "      <td>31920731</td>\n",
              "      <td>5614</td>\n",
              "      <td>817.76</td>\n",
              "      <td>2021-09-25 11:37:43</td>\n",
              "      <td>8082</td>\n",
              "      <td>Venmo</td>\n",
              "      <td>BEL</td>\n",
              "      <td>Auction</td>\n",
              "      <td>IoT Device</td>\n",
              "      <td>233.29.172.225</td>\n",
              "      <td>ELinks</td>\n",
              "      <td>Linux</td>\n",
              "      <td>Luxury Brands</td>\n",
              "      <td>47</td>\n",
              "      <td>Electrician</td>\n",
              "      <td>32460.10</td>\n",
              "      <td>Non-Binary</td>\n",
              "      <td>VIP</td>\n",
              "      <td>Completed</td>\n",
              "      <td>92.88</td>\n",
              "      <td>12.16</td>\n",
              "      <td>Evening</td>\n",
              "      <td>89</td>\n",
              "      <td>3.83</td>\n",
              "      <td>Argentina</td>\n",
              "      <td>ARS</td>\n",
              "      <td>Settlement</td>\n",
              "      <td>612</td>\n",
              "      <td>yahoo.co.uk</td>\n",
              "      <td>3</td>\n",
              "      <td>Biometric Card</td>\n",
              "      <td>0</td>\n",
              "      <td>6</td>\n",
              "    </tr>\n",
              "    <tr>\n",
              "      <th>4</th>\n",
              "      <td>15886445</td>\n",
              "      <td>8508</td>\n",
              "      <td>599.63</td>\n",
              "      <td>2023-06-14 05:43:04</td>\n",
              "      <td>1934</td>\n",
              "      <td>Stripe</td>\n",
              "      <td>FRA</td>\n",
              "      <td>Recharge</td>\n",
              "      <td>Smart Thermostat</td>\n",
              "      <td>36.13.185.173</td>\n",
              "      <td>Surfraw</td>\n",
              "      <td>FreeBSD</td>\n",
              "      <td>Vintage &amp; Antique</td>\n",
              "      <td>72</td>\n",
              "      <td>Plumber</td>\n",
              "      <td>8755.02</td>\n",
              "      <td>Agender</td>\n",
              "      <td>Closed</td>\n",
              "      <td>Posted</td>\n",
              "      <td>3.95</td>\n",
              "      <td>26.33</td>\n",
              "      <td>Nighttime</td>\n",
              "      <td>32</td>\n",
              "      <td>4.38</td>\n",
              "      <td>Switzerland</td>\n",
              "      <td>TRY</td>\n",
              "      <td>Tax Payment</td>\n",
              "      <td>697</td>\n",
              "      <td>outlook.co.uk</td>\n",
              "      <td>1</td>\n",
              "      <td>Mobile Phone Verification</td>\n",
              "      <td>0</td>\n",
              "      <td>3</td>\n",
              "    </tr>\n",
              "  </tbody>\n",
              "</table>\n",
              "</div>\n",
              "    <div class=\"colab-df-buttons\">\n",
              "\n",
              "  <div class=\"colab-df-container\">\n",
              "    <button class=\"colab-df-convert\" onclick=\"convertToInteractive('df-b28a87b8-3202-4e77-90cc-12ae5f5c3367')\"\n",
              "            title=\"Convert this dataframe to an interactive table.\"\n",
              "            style=\"display:none;\">\n",
              "\n",
              "  <svg xmlns=\"http://www.w3.org/2000/svg\" height=\"24px\" viewBox=\"0 -960 960 960\">\n",
              "    <path d=\"M120-120v-720h720v720H120Zm60-500h600v-160H180v160Zm220 220h160v-160H400v160Zm0 220h160v-160H400v160ZM180-400h160v-160H180v160Zm440 0h160v-160H620v160ZM180-180h160v-160H180v160Zm440 0h160v-160H620v160Z\"/>\n",
              "  </svg>\n",
              "    </button>\n",
              "\n",
              "  <style>\n",
              "    .colab-df-container {\n",
              "      display:flex;\n",
              "      gap: 12px;\n",
              "    }\n",
              "\n",
              "    .colab-df-convert {\n",
              "      background-color: #E8F0FE;\n",
              "      border: none;\n",
              "      border-radius: 50%;\n",
              "      cursor: pointer;\n",
              "      display: none;\n",
              "      fill: #1967D2;\n",
              "      height: 32px;\n",
              "      padding: 0 0 0 0;\n",
              "      width: 32px;\n",
              "    }\n",
              "\n",
              "    .colab-df-convert:hover {\n",
              "      background-color: #E2EBFA;\n",
              "      box-shadow: 0px 1px 2px rgba(60, 64, 67, 0.3), 0px 1px 3px 1px rgba(60, 64, 67, 0.15);\n",
              "      fill: #174EA6;\n",
              "    }\n",
              "\n",
              "    .colab-df-buttons div {\n",
              "      margin-bottom: 4px;\n",
              "    }\n",
              "\n",
              "    [theme=dark] .colab-df-convert {\n",
              "      background-color: #3B4455;\n",
              "      fill: #D2E3FC;\n",
              "    }\n",
              "\n",
              "    [theme=dark] .colab-df-convert:hover {\n",
              "      background-color: #434B5C;\n",
              "      box-shadow: 0px 1px 3px 1px rgba(0, 0, 0, 0.15);\n",
              "      filter: drop-shadow(0px 1px 2px rgba(0, 0, 0, 0.3));\n",
              "      fill: #FFFFFF;\n",
              "    }\n",
              "  </style>\n",
              "\n",
              "    <script>\n",
              "      const buttonEl =\n",
              "        document.querySelector('#df-b28a87b8-3202-4e77-90cc-12ae5f5c3367 button.colab-df-convert');\n",
              "      buttonEl.style.display =\n",
              "        google.colab.kernel.accessAllowed ? 'block' : 'none';\n",
              "\n",
              "      async function convertToInteractive(key) {\n",
              "        const element = document.querySelector('#df-b28a87b8-3202-4e77-90cc-12ae5f5c3367');\n",
              "        const dataTable =\n",
              "          await google.colab.kernel.invokeFunction('convertToInteractive',\n",
              "                                                    [key], {});\n",
              "        if (!dataTable) return;\n",
              "\n",
              "        const docLinkHtml = 'Like what you see? Visit the ' +\n",
              "          '<a target=\"_blank\" href=https://colab.research.google.com/notebooks/data_table.ipynb>data table notebook</a>'\n",
              "          + ' to learn more about interactive tables.';\n",
              "        element.innerHTML = '';\n",
              "        dataTable['output_type'] = 'display_data';\n",
              "        await google.colab.output.renderOutput(dataTable, element);\n",
              "        const docLink = document.createElement('div');\n",
              "        docLink.innerHTML = docLinkHtml;\n",
              "        element.appendChild(docLink);\n",
              "      }\n",
              "    </script>\n",
              "  </div>\n",
              "\n",
              "\n",
              "<div id=\"df-f7a8a8e5-37db-4e1b-b6f6-c8325b81e86c\">\n",
              "  <button class=\"colab-df-quickchart\" onclick=\"quickchart('df-f7a8a8e5-37db-4e1b-b6f6-c8325b81e86c')\"\n",
              "            title=\"Suggest charts.\"\n",
              "            style=\"display:none;\">\n",
              "\n",
              "<svg xmlns=\"http://www.w3.org/2000/svg\" height=\"24px\"viewBox=\"0 0 24 24\"\n",
              "     width=\"24px\">\n",
              "    <g>\n",
              "        <path d=\"M19 3H5c-1.1 0-2 .9-2 2v14c0 1.1.9 2 2 2h14c1.1 0 2-.9 2-2V5c0-1.1-.9-2-2-2zM9 17H7v-7h2v7zm4 0h-2V7h2v10zm4 0h-2v-4h2v4z\"/>\n",
              "    </g>\n",
              "</svg>\n",
              "  </button>\n",
              "\n",
              "<style>\n",
              "  .colab-df-quickchart {\n",
              "      --bg-color: #E8F0FE;\n",
              "      --fill-color: #1967D2;\n",
              "      --hover-bg-color: #E2EBFA;\n",
              "      --hover-fill-color: #174EA6;\n",
              "      --disabled-fill-color: #AAA;\n",
              "      --disabled-bg-color: #DDD;\n",
              "  }\n",
              "\n",
              "  [theme=dark] .colab-df-quickchart {\n",
              "      --bg-color: #3B4455;\n",
              "      --fill-color: #D2E3FC;\n",
              "      --hover-bg-color: #434B5C;\n",
              "      --hover-fill-color: #FFFFFF;\n",
              "      --disabled-bg-color: #3B4455;\n",
              "      --disabled-fill-color: #666;\n",
              "  }\n",
              "\n",
              "  .colab-df-quickchart {\n",
              "    background-color: var(--bg-color);\n",
              "    border: none;\n",
              "    border-radius: 50%;\n",
              "    cursor: pointer;\n",
              "    display: none;\n",
              "    fill: var(--fill-color);\n",
              "    height: 32px;\n",
              "    padding: 0;\n",
              "    width: 32px;\n",
              "  }\n",
              "\n",
              "  .colab-df-quickchart:hover {\n",
              "    background-color: var(--hover-bg-color);\n",
              "    box-shadow: 0 1px 2px rgba(60, 64, 67, 0.3), 0 1px 3px 1px rgba(60, 64, 67, 0.15);\n",
              "    fill: var(--button-hover-fill-color);\n",
              "  }\n",
              "\n",
              "  .colab-df-quickchart-complete:disabled,\n",
              "  .colab-df-quickchart-complete:disabled:hover {\n",
              "    background-color: var(--disabled-bg-color);\n",
              "    fill: var(--disabled-fill-color);\n",
              "    box-shadow: none;\n",
              "  }\n",
              "\n",
              "  .colab-df-spinner {\n",
              "    border: 2px solid var(--fill-color);\n",
              "    border-color: transparent;\n",
              "    border-bottom-color: var(--fill-color);\n",
              "    animation:\n",
              "      spin 1s steps(1) infinite;\n",
              "  }\n",
              "\n",
              "  @keyframes spin {\n",
              "    0% {\n",
              "      border-color: transparent;\n",
              "      border-bottom-color: var(--fill-color);\n",
              "      border-left-color: var(--fill-color);\n",
              "    }\n",
              "    20% {\n",
              "      border-color: transparent;\n",
              "      border-left-color: var(--fill-color);\n",
              "      border-top-color: var(--fill-color);\n",
              "    }\n",
              "    30% {\n",
              "      border-color: transparent;\n",
              "      border-left-color: var(--fill-color);\n",
              "      border-top-color: var(--fill-color);\n",
              "      border-right-color: var(--fill-color);\n",
              "    }\n",
              "    40% {\n",
              "      border-color: transparent;\n",
              "      border-right-color: var(--fill-color);\n",
              "      border-top-color: var(--fill-color);\n",
              "    }\n",
              "    60% {\n",
              "      border-color: transparent;\n",
              "      border-right-color: var(--fill-color);\n",
              "    }\n",
              "    80% {\n",
              "      border-color: transparent;\n",
              "      border-right-color: var(--fill-color);\n",
              "      border-bottom-color: var(--fill-color);\n",
              "    }\n",
              "    90% {\n",
              "      border-color: transparent;\n",
              "      border-bottom-color: var(--fill-color);\n",
              "    }\n",
              "  }\n",
              "</style>\n",
              "\n",
              "  <script>\n",
              "    async function quickchart(key) {\n",
              "      const quickchartButtonEl =\n",
              "        document.querySelector('#' + key + ' button');\n",
              "      quickchartButtonEl.disabled = true;  // To prevent multiple clicks.\n",
              "      quickchartButtonEl.classList.add('colab-df-spinner');\n",
              "      try {\n",
              "        const charts = await google.colab.kernel.invokeFunction(\n",
              "            'suggestCharts', [key], {});\n",
              "      } catch (error) {\n",
              "        console.error('Error during call to suggestCharts:', error);\n",
              "      }\n",
              "      quickchartButtonEl.classList.remove('colab-df-spinner');\n",
              "      quickchartButtonEl.classList.add('colab-df-quickchart-complete');\n",
              "    }\n",
              "    (() => {\n",
              "      let quickchartButtonEl =\n",
              "        document.querySelector('#df-f7a8a8e5-37db-4e1b-b6f6-c8325b81e86c button');\n",
              "      quickchartButtonEl.style.display =\n",
              "        google.colab.kernel.accessAllowed ? 'block' : 'none';\n",
              "    })();\n",
              "  </script>\n",
              "</div>\n",
              "    </div>\n",
              "  </div>\n"
            ]
          },
          "metadata": {},
          "execution_count": 37
        }
      ]
    },
    {
      "cell_type": "code",
      "source": [
        "train.groupby(['Transaction Time of Day','Fraudulent Flag']).size()"
      ],
      "metadata": {
        "colab": {
          "base_uri": "https://localhost:8080/"
        },
        "id": "ZF7EXqWgv-mm",
        "outputId": "a153a208-678c-4471-883c-9ce514e75ffb"
      },
      "execution_count": 42,
      "outputs": [
        {
          "output_type": "execute_result",
          "data": {
            "text/plain": [
              "Transaction Time of Day  Fraudulent Flag\n",
              "Daytime                  0                  70233\n",
              "                         1                  69739\n",
              "Evening                  0                  69869\n",
              "                         1                  69871\n",
              "Nighttime                0                  70158\n",
              "                         1                  70130\n",
              "dtype: int64"
            ]
          },
          "metadata": {},
          "execution_count": 42
        }
      ]
    },
    {
      "cell_type": "code",
      "source": [
        "categorical_cols = train.select_dtypes(include=['object']).columns"
      ],
      "metadata": {
        "id": "vvAW4MPlwHw7"
      },
      "execution_count": 10,
      "outputs": []
    },
    {
      "cell_type": "code",
      "source": [
        "categorical_cols"
      ],
      "metadata": {
        "colab": {
          "base_uri": "https://localhost:8080/"
        },
        "id": "DqIIria0y3lR",
        "outputId": "2c7531d8-3ee7-4aba-c95e-79e38b199349"
      },
      "execution_count": 11,
      "outputs": [
        {
          "output_type": "execute_result",
          "data": {
            "text/plain": [
              "Index(['Payment Method', 'Country Code', 'Transaction Type', 'Device Type',\n",
              "       'IP Address', 'Browser Type', 'Operating System', 'Merchant Category',\n",
              "       'User Occupation', 'User Gender', 'User Account Status',\n",
              "       'Transaction Status', 'Transaction Time of Day',\n",
              "       'User's Device Location', 'Transaction Currency', 'Transaction Purpose',\n",
              "       'User's Email Domain', 'Transaction Authentication Method',\n",
              "       'day_of_week'],\n",
              "      dtype='object')"
            ]
          },
          "metadata": {},
          "execution_count": 11
        }
      ]
    },
    {
      "cell_type": "code",
      "source": [
        "for col in categorical_cols:\n",
        "  print(train.groupby([col, 'Fraudulent Flag']).size())\n",
        "  print('=============================================')"
      ],
      "metadata": {
        "colab": {
          "base_uri": "https://localhost:8080/"
        },
        "id": "Qwi8Eogky6LI",
        "outputId": "115ff02a-ce9c-4438-bc11-efcada4e06e1"
      },
      "execution_count": 12,
      "outputs": [
        {
          "output_type": "stream",
          "name": "stdout",
          "text": [
            "Payment Method  Fraudulent Flag\n",
            "2Checkout       0                  5304\n",
            "                1                  5118\n",
            "ACH Transfer    0                  5209\n",
            "                1                  5274\n",
            "Afterpay        0                  5225\n",
            "                                   ... \n",
            "Western Union   1                  5188\n",
            "Wire Transfer   0                  5248\n",
            "                1                  5216\n",
            "Worldpay        0                  5180\n",
            "                1                  5234\n",
            "Length: 80, dtype: int64\n",
            "=============================================\n",
            "Country Code  Fraudulent Flag\n",
            "ARG           0                  5298\n",
            "              1                  5319\n",
            "AUS           0                  5271\n",
            "              1                  5254\n",
            "AUT           0                  5312\n",
            "                                 ... \n",
            "USA           1                  5187\n",
            "VNM           0                  5289\n",
            "              1                  5244\n",
            "ZAF           0                  5258\n",
            "              1                  5234\n",
            "Length: 80, dtype: int64\n",
            "=============================================\n",
            "Transaction Type  Fraudulent Flag\n",
            "Acquisition       0                  5287\n",
            "                  1                  5342\n",
            "Admission         0                  5316\n",
            "                  1                  5337\n",
            "Auction           0                  5381\n",
            "                                     ... \n",
            "Tax               1                  5255\n",
            "Transfer          0                  5294\n",
            "                  1                  5379\n",
            "Withdrawal        0                  5274\n",
            "                  1                  5224\n",
            "Length: 76, dtype: int64\n",
            "=============================================\n",
            "Device Type                Fraudulent Flag\n",
            "ATM                        0                  5499\n",
            "                           1                  5468\n",
            "Augmented Reality Glasses  0                  5610\n",
            "                           1                  5551\n",
            "Barcode Scanner            0                  5451\n",
            "                                              ... \n",
            "Vending Machine            1                  5530\n",
            "Virtual Reality Headset    0                  5421\n",
            "                           1                  5482\n",
            "Wearable Device            0                  5581\n",
            "                           1                  5571\n",
            "Length: 76, dtype: int64\n",
            "=============================================\n",
            "IP Address    Fraudulent Flag\n",
            "0.0.19.56     1                  1\n",
            "0.0.239.238   0                  1\n",
            "0.0.242.66    0                  1\n",
            "0.0.28.32     0                  1\n",
            "0.0.33.88     1                  1\n",
            "                                ..\n",
            "99.99.250.22  0                  1\n",
            "99.99.4.116   1                  1\n",
            "99.99.45.60   1                  1\n",
            "99.99.81.45   0                  1\n",
            "99.99.97.126  0                  1\n",
            "Length: 419986, dtype: int64\n",
            "=============================================\n",
            "Browser Type   Fraudulent Flag\n",
            "Avant Browser  0                  5255\n",
            "               1                  5200\n",
            "Basilisk       0                  5280\n",
            "               1                  5301\n",
            "Beaker         0                  5234\n",
            "                                  ... \n",
            "Vivaldi        1                  5322\n",
            "W3M            0                  5188\n",
            "               1                  5243\n",
            "Waterfox       0                  5250\n",
            "               1                  5220\n",
            "Length: 78, dtype: int64\n",
            "=============================================\n",
            "Operating System  Fraudulent Flag\n",
            "AIX               0                  5262\n",
            "                  1                  5176\n",
            "Android           0                  5149\n",
            "                  1                  5259\n",
            "Android TV        0                  5280\n",
            "                                     ... \n",
            "openSUSE          1                  5217\n",
            "tvOS              0                  5198\n",
            "                  1                  5139\n",
            "watchOS           0                  5253\n",
            "                  1                  5160\n",
            "Length: 80, dtype: int64\n",
            "=============================================\n",
            "Merchant Category   Fraudulent Flag\n",
            "Appliances          0                  5263\n",
            "                    1                  5345\n",
            "Art & Collectibles  0                  5149\n",
            "                    1                  5201\n",
            "Automotive          0                  5167\n",
            "                                       ... \n",
            "Vintage & Antique   1                  5214\n",
            "Wedding & Bridal    0                  5215\n",
            "                    1                  5306\n",
            "Wholesale           0                  5285\n",
            "                    1                  5084\n",
            "Length: 80, dtype: int64\n",
            "=============================================\n",
            "User Occupation     Fraudulent Flag\n",
            "Accountant          0                  8066\n",
            "                    1                  8072\n",
            "Architect           0                  8088\n",
            "                    1                  7988\n",
            "Artist              0                  8159\n",
            "                    1                  8029\n",
            "Biologist           0                  8190\n",
            "                    1                  8099\n",
            "Chef                0                  8026\n",
            "                    1                  8052\n",
            "Chemist             0                  8190\n",
            "                    1                  8053\n",
            "Counselor           0                  7970\n",
            "                    1                  8064\n",
            "Doctor              0                  8062\n",
            "                    1                  8115\n",
            "Electrician         0                  8223\n",
            "                    1                  8060\n",
            "Engineer            0                  8281\n",
            "                    1                  8083\n",
            "Event Planner       0                  7970\n",
            "                    1                  8127\n",
            "Fashion Designer    0                  8052\n",
            "                    1                  7909\n",
            "Firefighter         0                  8015\n",
            "                    1                  8316\n",
            "Geologist           0                  8112\n",
            "                    1                  8204\n",
            "Lawyer              0                  7983\n",
            "                    1                  7976\n",
            "Mathematician       0                  8043\n",
            "                    1                  8093\n",
            "Nurse               0                  7991\n",
            "                    1                  8164\n",
            "Physicist           0                  8096\n",
            "                    1                  8096\n",
            "Pilot               0                  8061\n",
            "                    1                  7857\n",
            "Plumber             0                  8141\n",
            "                    1                  8044\n",
            "Police Officer      0                  8025\n",
            "                    1                  8050\n",
            "Researcher          0                  7931\n",
            "                    1                  8124\n",
            "Salesperson         0                  8266\n",
            "                    1                  8054\n",
            "Software Developer  0                  8078\n",
            "                    1                  7984\n",
            "Surveyor            0                  8161\n",
            "                    1                  8030\n",
            "Teacher             0                  8080\n",
            "                    1                  8097\n",
            "dtype: int64\n",
            "=============================================\n",
            "User Gender        Fraudulent Flag\n",
            "Agender            0                  29963\n",
            "                   1                  29918\n",
            "Female             0                  30212\n",
            "                   1                  29815\n",
            "Genderqueer        0                  29815\n",
            "                   1                  30170\n",
            "Male               0                  30308\n",
            "                   1                  30113\n",
            "Non-Binary         0                  29974\n",
            "                   1                  29980\n",
            "Other              0                  29834\n",
            "                   1                  29957\n",
            "Prefer Not to Say  0                  30154\n",
            "                   1                  29787\n",
            "dtype: int64\n",
            "=============================================\n",
            "User Account Status  Fraudulent Flag\n",
            "Active               0                  11716\n",
            "                     1                  11386\n",
            "Closed               0                  11624\n",
            "                     1                  11817\n",
            "Existing             0                  11656\n",
            "                     1                  11785\n",
            "Free                 0                  11641\n",
            "                     1                  11720\n",
            "Guest                0                  11697\n",
            "                     1                  11620\n",
            "Inactive             0                  11808\n",
            "                     1                  11676\n",
            "Limited              0                  11573\n",
            "                     1                  11677\n",
            "Member               0                  11586\n",
            "                     1                  11627\n",
            "New                  0                  11729\n",
            "                     1                  11638\n",
            "Pending Approval     0                  11738\n",
            "                     1                  11750\n",
            "Premium              0                  11583\n",
            "                     1                  11774\n",
            "Pro                  0                  11622\n",
            "                     1                  11474\n",
            "Standard             0                  11642\n",
            "                     1                  11596\n",
            "Suspended            0                  11667\n",
            "                     1                  11677\n",
            "Trial                0                  11814\n",
            "                     1                  11791\n",
            "Unverified           0                  11810\n",
            "                     1                  11711\n",
            "VIP                  0                  11782\n",
            "                     1                  11658\n",
            "Verified             0                  11572\n",
            "                     1                  11363\n",
            "dtype: int64\n",
            "=============================================\n",
            "Transaction Status     Fraudulent Flag\n",
            "Approved               0                  5272\n",
            "                       1                  5200\n",
            "Authorized             0                  5122\n",
            "                       1                  5179\n",
            "Awaiting Verification  0                  5265\n",
            "                                          ... \n",
            "Unverified             1                  5174\n",
            "Verified               0                  5183\n",
            "                       1                  5252\n",
            "Void                   0                  5226\n",
            "                       1                  5282\n",
            "Length: 80, dtype: int64\n",
            "=============================================\n",
            "Transaction Time of Day  Fraudulent Flag\n",
            "Daytime                  0                  70135\n",
            "                         1                  69820\n",
            "Evening                  0                  69828\n",
            "                         1                  69850\n",
            "Nighttime                0                  70297\n",
            "                         1                  70070\n",
            "dtype: int64\n",
            "=============================================\n",
            "User's Device Location  Fraudulent Flag\n",
            "Argentina               0                  5123\n",
            "                        1                  5213\n",
            "Australia               0                  5212\n",
            "                        1                  5276\n",
            "Austria                 0                  5161\n",
            "                                           ... \n",
            "United Kingdom          1                  5154\n",
            "United States           0                  5314\n",
            "                        1                  5208\n",
            "Vietnam                 0                  5140\n",
            "                        1                  5312\n",
            "Length: 80, dtype: int64\n",
            "=============================================\n",
            "Transaction Currency  Fraudulent Flag\n",
            "AED                   0                  5244\n",
            "                      1                  5153\n",
            "ARS                   0                  5309\n",
            "                      1                  5351\n",
            "AUD                   0                  5270\n",
            "                                         ... \n",
            "USD                   1                  5295\n",
            "VND                   0                  5223\n",
            "                      1                  5212\n",
            "ZAR                   0                  5273\n",
            "                      1                  5190\n",
            "Length: 80, dtype: int64\n",
            "=============================================\n",
            "Transaction Purpose  Fraudulent Flag\n",
            "Acquisition          0                  5440\n",
            "                     1                  5400\n",
            "Admission            0                  5530\n",
            "                     1                  5492\n",
            "Auction Bid          0                  5566\n",
            "                                        ... \n",
            "Ticket Purchase      1                  5433\n",
            "Transfer to Family   0                  5495\n",
            "                     1                  5534\n",
            "Utility Payment      0                  5476\n",
            "                     1                  5464\n",
            "Length: 76, dtype: int64\n",
            "=============================================\n",
            "User's Email Domain  Fraudulent Flag\n",
            "aim.co.uk            0                  5180\n",
            "                     1                  5255\n",
            "aim.com              0                  5397\n",
            "                     1                  5156\n",
            "aol.com              0                  5264\n",
            "                                        ... \n",
            "yandex.com           1                  5253\n",
            "zoho.co.uk           0                  5343\n",
            "                     1                  5300\n",
            "zoho.com             0                  5397\n",
            "                     1                  5235\n",
            "Length: 80, dtype: int64\n",
            "=============================================\n",
            "Transaction Authentication Method  Fraudulent Flag\n",
            "Authentication App                 0                  5477\n",
            "                                   1                  5462\n",
            "Behavioral Analytics               0                  5482\n",
            "                                   1                  5270\n",
            "Behavioral Biometrics              0                  5413\n",
            "                                                      ... \n",
            "USB Security Key                   1                  5343\n",
            "Voice Recognition                  0                  5406\n",
            "                                   1                  5291\n",
            "Voiceprint                         0                  5287\n",
            "                                   1                  5458\n",
            "Length: 78, dtype: int64\n",
            "=============================================\n",
            "day_of_week  Fraudulent Flag\n",
            "0            0                  30475\n",
            "             1                  30060\n",
            "1            0                  30101\n",
            "             1                  29850\n",
            "2            0                  29678\n",
            "             1                  29776\n",
            "3            0                  30038\n",
            "             1                  29710\n",
            "4            0                  29556\n",
            "             1                  29803\n",
            "5            0                  30393\n",
            "             1                  30126\n",
            "6            0                  30019\n",
            "             1                  30415\n",
            "dtype: int64\n",
            "=============================================\n"
          ]
        }
      ]
    },
    {
      "cell_type": "markdown",
      "source": [
        "From above, the categorical columns are showing high cardinality and even distribution around the class labels, hence only the 'Time of Day' feature and the 'Day of week' feature would be utilized during the model - 1.0.1 phase."
      ],
      "metadata": {
        "id": "V7N_J2CRtO-G"
      }
    },
    {
      "cell_type": "code",
      "source": [
        "train['day_of_week'] = train['day_of_week'].astype('int64')\n",
        "test['day_of_week'] = test['day_of_week'].astype('int64')"
      ],
      "metadata": {
        "id": "DvCFn-oJz_6h"
      },
      "execution_count": 13,
      "outputs": []
    },
    {
      "cell_type": "code",
      "source": [
        "train.info()"
      ],
      "metadata": {
        "colab": {
          "base_uri": "https://localhost:8080/"
        },
        "id": "td-TLw408osZ",
        "outputId": "e112d5f4-923b-48c3-95e4-e4da7424ea96"
      },
      "execution_count": 52,
      "outputs": [
        {
          "output_type": "stream",
          "name": "stdout",
          "text": [
            "<class 'pandas.core.frame.DataFrame'>\n",
            "RangeIndex: 420000 entries, 0 to 419999\n",
            "Data columns (total 33 columns):\n",
            " #   Column                             Non-Null Count   Dtype         \n",
            "---  ------                             --------------   -----         \n",
            " 0   Transaction ID                     420000 non-null  int64         \n",
            " 1   User ID                            420000 non-null  int64         \n",
            " 2   Transaction Amount                 420000 non-null  float64       \n",
            " 3   Transaction Date and Time          420000 non-null  datetime64[ns]\n",
            " 4   Merchant ID                        420000 non-null  int64         \n",
            " 5   Payment Method                     420000 non-null  object        \n",
            " 6   Country Code                       420000 non-null  object        \n",
            " 7   Transaction Type                   420000 non-null  object        \n",
            " 8   Device Type                        420000 non-null  object        \n",
            " 9   IP Address                         420000 non-null  object        \n",
            " 10  Browser Type                       420000 non-null  object        \n",
            " 11  Operating System                   420000 non-null  object        \n",
            " 12  Merchant Category                  420000 non-null  object        \n",
            " 13  User Age                           420000 non-null  int64         \n",
            " 14  User Occupation                    420000 non-null  object        \n",
            " 15  User Income                        420000 non-null  float64       \n",
            " 16  User Gender                        420000 non-null  object        \n",
            " 17  User Account Status                420000 non-null  object        \n",
            " 18  Transaction Status                 420000 non-null  object        \n",
            " 19  Location Distance                  420000 non-null  float64       \n",
            " 20  Time Taken for Transaction         420000 non-null  float64       \n",
            " 21  Transaction Time of Day            420000 non-null  object        \n",
            " 22  User's Transaction History         420000 non-null  int64         \n",
            " 23  Merchant's Reputation Score        420000 non-null  float64       \n",
            " 24  User's Device Location             420000 non-null  object        \n",
            " 25  Transaction Currency               420000 non-null  object        \n",
            " 26  Transaction Purpose                420000 non-null  object        \n",
            " 27  User's Credit Score                420000 non-null  int64         \n",
            " 28  User's Email Domain                420000 non-null  object        \n",
            " 29  Merchant's Business Age            420000 non-null  int64         \n",
            " 30  Transaction Authentication Method  420000 non-null  object        \n",
            " 31  Fraudulent Flag                    420000 non-null  int64         \n",
            " 32  day_of_week                        420000 non-null  int64         \n",
            "dtypes: datetime64[ns](1), float64(5), int64(9), object(18)\n",
            "memory usage: 105.7+ MB\n"
          ]
        }
      ]
    },
    {
      "cell_type": "code",
      "source": [
        "numeric_cols = train.select_dtypes(exclude=['object']).columns.values.tolist()\n",
        "numeric_cols.append('Transaction Time of Day')"
      ],
      "metadata": {
        "id": "Y4Nbn8Cg86iE"
      },
      "execution_count": 14,
      "outputs": []
    },
    {
      "cell_type": "code",
      "source": [
        "numeric_cols"
      ],
      "metadata": {
        "colab": {
          "base_uri": "https://localhost:8080/"
        },
        "id": "ZEpPrL2t9Qlt",
        "outputId": "8abb8081-3237-483c-be7e-57d2b1502e1e"
      },
      "execution_count": 15,
      "outputs": [
        {
          "output_type": "execute_result",
          "data": {
            "text/plain": [
              "['Transaction ID',\n",
              " 'User ID',\n",
              " 'Transaction Amount',\n",
              " 'Transaction Date and Time',\n",
              " 'Merchant ID',\n",
              " 'User Age',\n",
              " 'User Income',\n",
              " 'Location Distance',\n",
              " 'Time Taken for Transaction',\n",
              " \"User's Transaction History\",\n",
              " \"Merchant's Reputation Score\",\n",
              " \"User's Credit Score\",\n",
              " \"Merchant's Business Age\",\n",
              " 'Fraudulent Flag',\n",
              " 'day_of_week',\n",
              " 'Transaction Time of Day']"
            ]
          },
          "metadata": {},
          "execution_count": 15
        }
      ]
    },
    {
      "cell_type": "code",
      "source": [
        "df_train = train[numeric_cols]\n",
        "df_test = test[numeric_cols]"
      ],
      "metadata": {
        "id": "AP8q5c94-Fhr"
      },
      "execution_count": 16,
      "outputs": []
    },
    {
      "cell_type": "code",
      "source": [
        "df_train = pd.get_dummies(df_train)\n",
        "y_train = df_train['Fraudulent Flag']\n",
        "x_train = df_train.drop(['Transaction Date and Time', 'Fraudulent Flag'], axis=1)\n",
        "\n",
        "df_test = pd.get_dummies(df_test)\n",
        "y_test = df_test['Fraudulent Flag']\n",
        "x_test = df_test.drop(['Transaction Date and Time','Fraudulent Flag'], axis=1)"
      ],
      "metadata": {
        "id": "dzY2qRpy-LV3"
      },
      "execution_count": 17,
      "outputs": []
    },
    {
      "cell_type": "markdown",
      "source": [
        "### Training a XGBoost Model with customly defined metric to optimize for RECALL specifically"
      ],
      "metadata": {
        "id": "43RVmGJSu0yb"
      }
    },
    {
      "cell_type": "code",
      "source": [
        "import numpy as np\n",
        "import xgboost as xgb\n",
        "from sklearn.metrics import recall_score\n",
        "\n",
        "def custom_recall_metric(preds, dtrain):\n",
        "    labels = dtrain.get_label()  # Get the true labels from the DMatrix\n",
        "    predicted_labels = (preds > 0.5).astype(int)  # Convert predicted probabilities to binary labels\n",
        "    recall = recall_score(labels, predicted_labels)\n",
        "    return 'custom_recall', recall\n"
      ],
      "metadata": {
        "id": "Y_9bqWF5-Opg"
      },
      "execution_count": 18,
      "outputs": []
    },
    {
      "cell_type": "code",
      "source": [
        "params = {\n",
        "    'objective': 'binary:logistic',\n",
        "\n",
        "}\n",
        "\n",
        "dtrain = xgb.DMatrix(x_train, label=y_train)\n",
        "dval = xgb.DMatrix(x_test, label=y_test)  # Validation dataset\n",
        "\n",
        "evals = [(dtrain, 'train'), (dval, 'validation')]\n",
        "\n",
        "model = xgb.train(\n",
        "    params,\n",
        "    dtrain,\n",
        "    num_boost_round=100,\n",
        "    evals=evals,\n",
        "    feval=custom_recall_metric,  #\n",
        "    early_stopping_rounds=10\n",
        ")\n"
      ],
      "metadata": {
        "colab": {
          "base_uri": "https://localhost:8080/"
        },
        "id": "jOtuUSflAFMQ",
        "outputId": "6984d87d-93ff-4004-9def-0061d928472a"
      },
      "execution_count": 83,
      "outputs": [
        {
          "output_type": "stream",
          "name": "stdout",
          "text": [
            "[0]\ttrain-logloss:0.69291\ttrain-custom_recall:0.00000\tvalidation-logloss:0.69317\tvalidation-custom_recall:0.00000\n",
            "[1]\ttrain-logloss:0.69261\ttrain-custom_recall:0.00002\tvalidation-logloss:0.69323\tvalidation-custom_recall:0.00001\n",
            "[2]\ttrain-logloss:0.69244\ttrain-custom_recall:0.00009\tvalidation-logloss:0.69326\tvalidation-custom_recall:0.00002\n",
            "[3]\ttrain-logloss:0.69225\ttrain-custom_recall:0.00014\tvalidation-logloss:0.69331\tvalidation-custom_recall:0.00006\n",
            "[4]\ttrain-logloss:0.69209\ttrain-custom_recall:0.00020\tvalidation-logloss:0.69334\tvalidation-custom_recall:0.00009\n",
            "[5]\ttrain-logloss:0.69190\ttrain-custom_recall:0.00023\tvalidation-logloss:0.69337\tvalidation-custom_recall:0.00009\n",
            "[6]\ttrain-logloss:0.69162\ttrain-custom_recall:0.00026\tvalidation-logloss:0.69344\tvalidation-custom_recall:0.00010\n",
            "[7]\ttrain-logloss:0.69139\ttrain-custom_recall:0.00032\tvalidation-logloss:0.69351\tvalidation-custom_recall:0.00012\n",
            "[8]\ttrain-logloss:0.69122\ttrain-custom_recall:0.00073\tvalidation-logloss:0.69354\tvalidation-custom_recall:0.00041\n",
            "[9]\ttrain-logloss:0.69114\ttrain-custom_recall:0.00076\tvalidation-logloss:0.69356\tvalidation-custom_recall:0.00042\n",
            "[10]\ttrain-logloss:0.69089\ttrain-custom_recall:0.00093\tvalidation-logloss:0.69357\tvalidation-custom_recall:0.00055\n"
          ]
        }
      ]
    },
    {
      "cell_type": "code",
      "source": [
        "dval = xgb.DMatrix(x_test)\n",
        "y_pred_proba = model.predict(dval)\n",
        "y_pred = (y_pred_proba > 0.5).astype(int)\n",
        "classification_report_result = classification_report(y_test, y_pred)\n"
      ],
      "metadata": {
        "id": "OvMJvoCOAXDP"
      },
      "execution_count": 84,
      "outputs": []
    },
    {
      "cell_type": "code",
      "source": [
        "print(classification_report_result)"
      ],
      "metadata": {
        "colab": {
          "base_uri": "https://localhost:8080/"
        },
        "id": "4uG3vX12BKLx",
        "outputId": "e51dfd80-205d-476b-9633-fc01ef91040a"
      },
      "execution_count": 85,
      "outputs": [
        {
          "output_type": "stream",
          "name": "stdout",
          "text": [
            "              precision    recall  f1-score   support\n",
            "\n",
            "           0       0.50      0.54      0.52     90112\n",
            "           1       0.50      0.46      0.48     89888\n",
            "\n",
            "    accuracy                           0.50    180000\n",
            "   macro avg       0.50      0.50      0.50    180000\n",
            "weighted avg       0.50      0.50      0.50    180000\n",
            "\n"
          ]
        }
      ]
    },
    {
      "cell_type": "markdown",
      "source": [
        "## Carrying out Hyper parameter Optimization using Optuna and a custom 'recall' function"
      ],
      "metadata": {
        "id": "2hD_iFlQvEiC"
      }
    },
    {
      "cell_type": "code",
      "source": [
        "from sklearn.metrics import make_scorer, recall_score\n",
        "\n",
        "def custom_recall(y_true, y_pred):\n",
        "    return recall_score(y_true, y_pred)\n"
      ],
      "metadata": {
        "id": "RWxL4DVhBWrf"
      },
      "execution_count": 19,
      "outputs": []
    },
    {
      "cell_type": "code",
      "source": [
        "def objective(trial):\n",
        "    \"\"\"Define the objective function\"\"\"\n",
        "\n",
        "    params = {\n",
        "        'max_depth': trial.suggest_int('max_depth', 1, 9),\n",
        "        'learning_rate': trial.suggest_loguniform('learning_rate', 0.01, 1.0),\n",
        "        'n_estimators': trial.suggest_int('n_estimators', 50, 500),\n",
        "        'min_child_weight': trial.suggest_int('min_child_weight', 1, 10),\n",
        "        'gamma': trial.suggest_loguniform('gamma', 1e-8, 1.0),\n",
        "        'subsample': trial.suggest_loguniform('subsample', 0.01, 1.0),\n",
        "        'colsample_bytree': trial.suggest_loguniform('colsample_bytree', 0.01, 1.0),\n",
        "        'reg_alpha': trial.suggest_loguniform('reg_alpha', 1e-8, 1.0),\n",
        "        'reg_lambda': trial.suggest_loguniform('reg_lambda', 1e-8, 1.0),\n",
        "    }\n",
        "\n",
        "    # Fit the model\n",
        "    optuna_model = XGBClassifier(**params)\n",
        "\n",
        "    # Use make_scorer to create a callable version of the custom recall metric\n",
        "    custom_recall_scorer = make_scorer(custom_recall, greater_is_better=True)\n",
        "\n",
        "    return np.mean(cross_val_score(optuna_model, x_train, y_train, cv=skf, scoring=custom_recall_scorer))\n"
      ],
      "metadata": {
        "id": "VUh3kbE8DF5c"
      },
      "execution_count": 20,
      "outputs": []
    },
    {
      "cell_type": "code",
      "source": [
        "skf = StratifiedKFold(n_splits=10, shuffle=True, random_state = 752)"
      ],
      "metadata": {
        "id": "vgYmXc-yDOwQ"
      },
      "execution_count": 21,
      "outputs": []
    },
    {
      "cell_type": "code",
      "source": [
        "study = optuna.create_study(direction='maximize')\n",
        "study.optimize(objective, n_trials=20,show_progress_bar=True)"
      ],
      "metadata": {
        "colab": {
          "base_uri": "https://localhost:8080/",
          "height": 329,
          "referenced_widgets": [
            "d9eb9a563236467d8b1ddc46c4f0460c",
            "47fc14ad73a345dbbb56a518439d01e6",
            "1d9227c3c17a480786d114755f31348e",
            "ab4c76ac67c54582996a74248ce74e13",
            "e0b9e9e01b864210a8ac8b798fdca600",
            "94bd0a9bb4824ad6aac349759da6fca8",
            "a6e9efd5c8ee4a1b82e311142dbfb222",
            "c8c937ad172c4af48beb2e0c25b403d7",
            "00e4a679e13c489ba25de57aceaf14c6",
            "f32236c7aa164155b779c755a522e735",
            "02c936284c3c49d390dbe84312ccfa21"
          ]
        },
        "id": "m-gDpOruD7PV",
        "outputId": "1dd079e0-6fd0-4bf0-b5ba-eedafc81f314"
      },
      "execution_count": null,
      "outputs": [
        {
          "metadata": {
            "tags": null
          },
          "name": "stderr",
          "output_type": "stream",
          "text": [
            "[I 2023-09-17 18:38:51,022] A new study created in memory with name: no-name-8dc87d55-0f3e-44e8-b956-987a94779739\n"
          ]
        },
        {
          "data": {
            "application/vnd.jupyter.widget-view+json": {
              "model_id": "d9eb9a563236467d8b1ddc46c4f0460c",
              "version_major": 2,
              "version_minor": 0
            },
            "text/plain": [
              "  0%|          | 0/20 [00:00<?, ?it/s]"
            ]
          },
          "metadata": {},
          "output_type": "display_data"
        },
        {
          "output_type": "stream",
          "name": "stdout",
          "text": [
            "[I 2023-09-17 18:47:19,466] Trial 0 finished with value: 0.5000095356155239 and parameters: {'max_depth': 4, 'learning_rate': 0.49000449850693867, 'n_estimators': 248, 'min_child_weight': 4, 'gamma': 0.267871268151655, 'subsample': 0.29420543208358096, 'colsample_bytree': 0.32777946588504464, 'reg_alpha': 2.342922707414756e-07, 'reg_lambda': 1.2204961167745404e-06}. Best is trial 0 with value: 0.5000095356155239.\n",
            "[I 2023-09-17 19:01:23,636] Trial 1 finished with value: 0.4677314770668447 and parameters: {'max_depth': 4, 'learning_rate': 0.01048672556449345, 'n_estimators': 467, 'min_child_weight': 10, 'gamma': 0.27433808154381667, 'subsample': 0.08091656294420506, 'colsample_bytree': 0.40316061533314435, 'reg_alpha': 0.348508109961586, 'reg_lambda': 0.0012176036119708842}. Best is trial 0 with value: 0.5000095356155239.\n",
            "[I 2023-09-17 19:14:38,792] Trial 2 finished with value: 0.4938972060646515 and parameters: {'max_depth': 8, 'learning_rate': 0.01900373145735103, 'n_estimators': 247, 'min_child_weight': 7, 'gamma': 0.011144060723021161, 'subsample': 0.02415510742384809, 'colsample_bytree': 0.33148003000560583, 'reg_alpha': 0.5837471920223353, 'reg_lambda': 0.0016778086497255958}. Best is trial 0 with value: 0.5000095356155239.\n",
            "[I 2023-09-17 19:19:12,729] Trial 3 finished with value: 0.4757604653380376 and parameters: {'max_depth': 4, 'learning_rate': 0.04784358764964392, 'n_estimators': 264, 'min_child_weight': 6, 'gamma': 6.426323596765785e-05, 'subsample': 0.10212336539690814, 'colsample_bytree': 0.015295420614615963, 'reg_alpha': 0.7370857373318818, 'reg_lambda': 2.7494692662012163e-06}. Best is trial 0 with value: 0.5000095356155239.\n",
            "[I 2023-09-17 19:22:34,535] Trial 4 finished with value: 0.4552302851149042 and parameters: {'max_depth': 3, 'learning_rate': 0.02337157597776948, 'n_estimators': 236, 'min_child_weight': 5, 'gamma': 3.972110066346459e-05, 'subsample': 0.05513433049394159, 'colsample_bytree': 0.02841677784829736, 'reg_alpha': 2.6857853747021267e-08, 'reg_lambda': 2.7310859860073556e-08}. Best is trial 0 with value: 0.5000095356155239.\n",
            "[I 2023-09-17 19:23:18,458] Trial 5 finished with value: 0.37627062076857065 and parameters: {'max_depth': 1, 'learning_rate': 0.05016491969906917, 'n_estimators': 66, 'min_child_weight': 6, 'gamma': 4.353104385684084e-05, 'subsample': 0.09624958780638616, 'colsample_bytree': 0.02428030261862949, 'reg_alpha': 2.6893971480720874e-06, 'reg_lambda': 0.00018566164806049963}. Best is trial 0 with value: 0.5000095356155239.\n",
            "[I 2023-09-17 19:41:34,930] Trial 6 finished with value: 0.5001859445027177 and parameters: {'max_depth': 7, 'learning_rate': 0.8430032184041415, 'n_estimators': 454, 'min_child_weight': 2, 'gamma': 6.732426848543053e-08, 'subsample': 0.07982462351169213, 'colsample_bytree': 0.267214626724236, 'reg_alpha': 6.43190121345571e-08, 'reg_lambda': 3.012061470718042e-05}. Best is trial 6 with value: 0.5001859445027177.\n",
            "[I 2023-09-17 19:47:45,236] Trial 7 finished with value: 0.4729188519118909 and parameters: {'max_depth': 7, 'learning_rate': 0.05796082449764248, 'n_estimators': 168, 'min_child_weight': 2, 'gamma': 2.6991697978190143e-06, 'subsample': 0.345892124053435, 'colsample_bytree': 0.014012878802075779, 'reg_alpha': 0.0007118560290148248, 'reg_lambda': 1.4720668481192125e-08}. Best is trial 6 with value: 0.5001859445027177.\n",
            "[I 2023-09-17 19:55:08,774] Trial 8 finished with value: 0.49781634404500813 and parameters: {'max_depth': 3, 'learning_rate': 0.22110619548707247, 'n_estimators': 426, 'min_child_weight': 5, 'gamma': 0.00010751857892354275, 'subsample': 0.018518704767859988, 'colsample_bytree': 0.08264158829652662, 'reg_alpha': 0.06759922880025383, 'reg_lambda': 0.0055613182635763}. Best is trial 6 with value: 0.5001859445027177.\n",
            "[I 2023-09-17 20:06:50,750] Trial 9 finished with value: 0.4990273672165538 and parameters: {'max_depth': 8, 'learning_rate': 0.741687445270016, 'n_estimators': 367, 'min_child_weight': 5, 'gamma': 3.8689421198013574e-08, 'subsample': 0.019827645976919075, 'colsample_bytree': 0.16587014071421707, 'reg_alpha': 0.018452133869203254, 'reg_lambda': 0.0009339871153673346}. Best is trial 6 with value: 0.5001859445027177.\n",
            "[I 2023-09-17 20:37:37,148] Trial 10 finished with value: 0.49771145227424435 and parameters: {'max_depth': 6, 'learning_rate': 0.989732273103768, 'n_estimators': 344, 'min_child_weight': 1, 'gamma': 2.035176459700143e-08, 'subsample': 0.9420446982610182, 'colsample_bytree': 0.7326847592606275, 'reg_alpha': 2.0112276243827258e-05, 'reg_lambda': 0.07091822259858749}. Best is trial 6 with value: 0.5001859445027177.\n",
            "[I 2023-09-17 20:42:09,442] Trial 11 finished with value: 0.49588061409363976 and parameters: {'max_depth': 6, 'learning_rate': 0.36098189727935925, 'n_estimators': 156, 'min_child_weight': 3, 'gamma': 0.622981691192631, 'subsample': 0.2575056392323215, 'colsample_bytree': 0.16525590453035527, 'reg_alpha': 1.5931318641629507e-08, 'reg_lambda': 7.492240701684146e-06}. Best is trial 6 with value: 0.5001859445027177.\n",
            "[I 2023-09-17 21:17:52,437] Trial 12 finished with value: 0.5000667493086679 and parameters: {'max_depth': 9, 'learning_rate': 0.3837274758569257, 'n_estimators': 342, 'min_child_weight': 3, 'gamma': 0.006318703543543355, 'subsample': 0.21723346385946565, 'colsample_bytree': 0.677181661831755, 'reg_alpha': 5.675508634967329e-07, 'reg_lambda': 1.0765141483577217e-05}. Best is trial 6 with value: 0.5001859445027177.\n",
            "[I 2023-09-17 21:53:32,558] Trial 13 finished with value: 0.49909888433298366 and parameters: {'max_depth': 9, 'learning_rate': 0.22238737462896915, 'n_estimators': 378, 'min_child_weight': 1, 'gamma': 0.0037114182707682513, 'subsample': 0.04428502688384545, 'colsample_bytree': 0.7577831139682939, 'reg_alpha': 4.1364025019227325e-07, 'reg_lambda': 3.103756227486964e-05}. Best is trial 6 with value: 0.5001859445027177.\n"
          ]
        }
      ]
    },
    {
      "cell_type": "markdown",
      "source": [
        "# Conclusion :\n",
        "From the optimization carried out above, the best value is still seen to be hovering around 0.50 for the recall metric, indicative of a close agreement with the earlier generated model performance.\n",
        "\n",
        "This could be due to the oversampling technique employed to handle the class imbalance in the original dataset, as it may have led to a loss of information while oversampling the minority class by duplicating samples.\n",
        "\n",
        "# Recommendations :\n",
        "* Utilizing a different sampling technique, such as SMOTE or ADASYN.\n",
        "* Present the dataset as the original imbalanced dataset , and techniques to handle the anomalies or imbalance can be carried out by the scientist."
      ],
      "metadata": {
        "id": "XXa2QwF-bMTe"
      }
    },
    {
      "cell_type": "code",
      "source": [],
      "metadata": {
        "id": "AtLw1rOQ_4Q0"
      },
      "execution_count": null,
      "outputs": []
    }
  ]
}